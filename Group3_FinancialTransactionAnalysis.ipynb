{
 "cells": [
  {
   "cell_type": "markdown",
   "metadata": {
    "id": "MzZ4dJQYF7sH"
   },
   "source": [
    "# Machine Learning"
   ]
  },
  {
   "cell_type": "markdown",
   "metadata": {},
   "source": [
    "*S1-23_AIMLCZG565\n",
    "\n",
    "*First Semester, 2023 -24, ML Group 3\n",
    "\n",
    "*Assignment 1 – Part 1 & Part 2 Combined\n",
    "\n",
    "*Financial Transaction Analysis"
   ]
  },
  {
   "cell_type": "markdown",
   "metadata": {
    "id": "h35jIBbCF7sK"
   },
   "source": [
    "# List only the BITS (Name) of active contributors in this assignment:\n",
    "1. Siddhartha Sandilya - 2023aa05705@wilp.bits-pilani.ac.in\n",
    "2. Akbar Sha Ebhrahim- 2023aa05159@wilp.bits-pilani.ac.in\n",
    "3. Veerla- 2023aa05099@wilp.bits-pilani.ac.in\n",
    "4. Mohammed Musaveer- 2023ab05045@wilp.bits-pilani.ac.in\n"
   ]
  },
  {
   "cell_type": "markdown",
   "metadata": {
    "id": "wZfop5ElF7sL"
   },
   "source": [
    "Coding begins here"
   ]
  },
  {
   "cell_type": "markdown",
   "metadata": {
    "id": "IL0QDMy3F7sL"
   },
   "source": [
    "## 1.\tImport the libraries/Dataset"
   ]
  },
  {
   "cell_type": "code",
   "execution_count": 1,
   "metadata": {
    "id": "RYwJPNLIF7sM"
   },
   "outputs": [],
   "source": [
    "# Supress Warnings\n",
    "\n",
    "import warnings\n",
    "warnings.filterwarnings('ignore')\n",
    "\n",
    "# Import the numpy and pandas package\n",
    "\n",
    "import numpy as np\n",
    "import pandas as pd\n",
    "\n",
    "# Data Visualisation\n",
    "import matplotlib.pyplot as plt \n",
    "import seaborn as sns\n",
    "\n",
    "#sci-kit\n",
    "from sklearn.preprocessing import StandardScaler \n",
    "from sklearn.model_selection import train_test_split,cross_val_score\n",
    "from sklearn.feature_selection import SelectFromModel\n",
    "from sklearn.linear_model import LogisticRegression\n",
    "from sklearn.ensemble import RandomForestClassifier,AdaBoostClassifier\n",
    "from sklearn.preprocessing import LabelEncoder, MinMaxScaler\n",
    "from sklearn.tree import DecisionTreeClassifier, plot_tree\n",
    "from sklearn.linear_model import LogisticRegressionCV\n",
    "from scipy.stats import zscore\n",
    "from sklearn.linear_model import LogisticRegressionCV\n",
    "from sklearn.model_selection import GridSearchCV\n",
    "from sklearn.preprocessing import OneHotEncoder\n",
    "from sklearn.model_selection import StratifiedKFold\n",
    "from sklearn.metrics import accuracy_score, precision_score, recall_score, f1_score, classification_report, confusion_matrix"
   ]
  },
  {
   "cell_type": "code",
   "execution_count": 2,
   "metadata": {},
   "outputs": [],
   "source": [
    "# Read the data\n",
    "df = pd.read_csv('Assignment_1_Set1.csv')"
   ]
  },
  {
   "cell_type": "code",
   "execution_count": 3,
   "metadata": {},
   "outputs": [
    {
     "data": {
      "text/html": [
       "<div>\n",
       "<style scoped>\n",
       "    .dataframe tbody tr th:only-of-type {\n",
       "        vertical-align: middle;\n",
       "    }\n",
       "\n",
       "    .dataframe tbody tr th {\n",
       "        vertical-align: top;\n",
       "    }\n",
       "\n",
       "    .dataframe thead th {\n",
       "        text-align: right;\n",
       "    }\n",
       "</style>\n",
       "<table border=\"1\" class=\"dataframe\">\n",
       "  <thead>\n",
       "    <tr style=\"text-align: right;\">\n",
       "      <th></th>\n",
       "      <th>Amount</th>\n",
       "      <th>Date</th>\n",
       "      <th>Card Type</th>\n",
       "      <th>MCC Category</th>\n",
       "      <th>Location</th>\n",
       "      <th>Device</th>\n",
       "      <th>Previous Transactions</th>\n",
       "      <th>Balance Before Transaction</th>\n",
       "      <th>Time of Day</th>\n",
       "      <th>Velocity</th>\n",
       "      <th>Customer Age</th>\n",
       "      <th>Customer Income</th>\n",
       "      <th>Card Limit</th>\n",
       "      <th>Credit Score</th>\n",
       "      <th>Merchant Reputation</th>\n",
       "      <th>Merchant Location History</th>\n",
       "      <th>Spending Patterns</th>\n",
       "      <th>Online Transactions Frequency</th>\n",
       "      <th>Is Fraudulent</th>\n",
       "    </tr>\n",
       "  </thead>\n",
       "  <tbody>\n",
       "    <tr>\n",
       "      <th>0</th>\n",
       "      <td>180.924993</td>\n",
       "      <td>02-07-2023</td>\n",
       "      <td>Debit</td>\n",
       "      <td>Electronics</td>\n",
       "      <td>UK</td>\n",
       "      <td>Desktop</td>\n",
       "      <td>6</td>\n",
       "      <td>919.055267</td>\n",
       "      <td>10</td>\n",
       "      <td>-0.337955</td>\n",
       "      <td>52</td>\n",
       "      <td>105545.34050</td>\n",
       "      <td>2503.758986</td>\n",
       "      <td>401</td>\n",
       "      <td>Average</td>\n",
       "      <td>6</td>\n",
       "      <td>828.820298</td>\n",
       "      <td>Medium</td>\n",
       "      <td>0</td>\n",
       "    </tr>\n",
       "    <tr>\n",
       "      <th>1</th>\n",
       "      <td>794.625797</td>\n",
       "      <td>18-02-2023</td>\n",
       "      <td>Prepaid</td>\n",
       "      <td>Groceries</td>\n",
       "      <td>Canada</td>\n",
       "      <td>Desktop</td>\n",
       "      <td>5</td>\n",
       "      <td>3529.930762</td>\n",
       "      <td>17</td>\n",
       "      <td>0.015117</td>\n",
       "      <td>62</td>\n",
       "      <td>92651.85441</td>\n",
       "      <td>12885.681730</td>\n",
       "      <td>409</td>\n",
       "      <td>Average</td>\n",
       "      <td>13</td>\n",
       "      <td>4384.528307</td>\n",
       "      <td>Low</td>\n",
       "      <td>1</td>\n",
       "    </tr>\n",
       "  </tbody>\n",
       "</table>\n",
       "</div>"
      ],
      "text/plain": [
       "       Amount        Date Card Type MCC Category Location   Device  \\\n",
       "0  180.924993  02-07-2023     Debit  Electronics       UK  Desktop   \n",
       "1  794.625797  18-02-2023   Prepaid    Groceries   Canada  Desktop   \n",
       "\n",
       "   Previous Transactions  Balance Before Transaction  Time of Day  Velocity  \\\n",
       "0                      6                  919.055267           10 -0.337955   \n",
       "1                      5                 3529.930762           17  0.015117   \n",
       "\n",
       "   Customer Age  Customer Income    Card Limit  Credit Score  \\\n",
       "0            52     105545.34050   2503.758986           401   \n",
       "1            62      92651.85441  12885.681730           409   \n",
       "\n",
       "  Merchant Reputation  Merchant Location History  Spending Patterns  \\\n",
       "0             Average                          6         828.820298   \n",
       "1             Average                         13        4384.528307   \n",
       "\n",
       "  Online Transactions Frequency  Is Fraudulent  \n",
       "0                        Medium              0  \n",
       "1                           Low              1  "
      ]
     },
     "execution_count": 3,
     "metadata": {},
     "output_type": "execute_result"
    }
   ],
   "source": [
    "# Top 2 rows\n",
    "df.head(2)"
   ]
  },
  {
   "cell_type": "code",
   "execution_count": 4,
   "metadata": {},
   "outputs": [
    {
     "data": {
      "text/plain": [
       "Index(['Amount', 'Date', 'Card Type', 'MCC Category', 'Location', 'Device',\n",
       "       'Previous Transactions', 'Balance Before Transaction', 'Time of Day',\n",
       "       'Velocity', 'Customer Age', 'Customer Income', 'Card Limit',\n",
       "       'Credit Score', 'Merchant Reputation', 'Merchant Location History',\n",
       "       'Spending Patterns', 'Online Transactions Frequency', 'Is Fraudulent'],\n",
       "      dtype='object')"
      ]
     },
     "execution_count": 4,
     "metadata": {},
     "output_type": "execute_result"
    }
   ],
   "source": [
    "# Column names\n",
    "df.columns"
   ]
  },
  {
   "cell_type": "code",
   "execution_count": 5,
   "metadata": {},
   "outputs": [
    {
     "name": "stdout",
     "output_type": "stream",
     "text": [
      "<class 'pandas.core.frame.DataFrame'>\n",
      "RangeIndex: 1000 entries, 0 to 999\n",
      "Data columns (total 19 columns):\n",
      " #   Column                         Non-Null Count  Dtype  \n",
      "---  ------                         --------------  -----  \n",
      " 0   Amount                         1000 non-null   float64\n",
      " 1   Date                           1000 non-null   object \n",
      " 2   Card Type                      1000 non-null   object \n",
      " 3   MCC Category                   1000 non-null   object \n",
      " 4   Location                       1000 non-null   object \n",
      " 5   Device                         1000 non-null   object \n",
      " 6   Previous Transactions          1000 non-null   int64  \n",
      " 7   Balance Before Transaction     1000 non-null   float64\n",
      " 8   Time of Day                    1000 non-null   int64  \n",
      " 9   Velocity                       1000 non-null   float64\n",
      " 10  Customer Age                   1000 non-null   int64  \n",
      " 11  Customer Income                1000 non-null   float64\n",
      " 12  Card Limit                     1000 non-null   float64\n",
      " 13  Credit Score                   1000 non-null   int64  \n",
      " 14  Merchant Reputation            1000 non-null   object \n",
      " 15  Merchant Location History      1000 non-null   int64  \n",
      " 16  Spending Patterns              1000 non-null   float64\n",
      " 17  Online Transactions Frequency  1000 non-null   object \n",
      " 18  Is Fraudulent                  1000 non-null   int64  \n",
      "dtypes: float64(6), int64(6), object(7)\n",
      "memory usage: 148.6+ KB\n"
     ]
    }
   ],
   "source": [
    "df.info()"
   ]
  },
  {
   "cell_type": "code",
   "execution_count": 6,
   "metadata": {},
   "outputs": [
    {
     "data": {
      "text/plain": [
       "(1000, 19)"
      ]
     },
     "execution_count": 6,
     "metadata": {},
     "output_type": "execute_result"
    }
   ],
   "source": [
    "# Shape and Size\n",
    "df.shape"
   ]
  },
  {
   "cell_type": "code",
   "execution_count": 7,
   "metadata": {},
   "outputs": [
    {
     "data": {
      "text/html": [
       "<div>\n",
       "<style scoped>\n",
       "    .dataframe tbody tr th:only-of-type {\n",
       "        vertical-align: middle;\n",
       "    }\n",
       "\n",
       "    .dataframe tbody tr th {\n",
       "        vertical-align: top;\n",
       "    }\n",
       "\n",
       "    .dataframe thead th {\n",
       "        text-align: right;\n",
       "    }\n",
       "</style>\n",
       "<table border=\"1\" class=\"dataframe\">\n",
       "  <thead>\n",
       "    <tr style=\"text-align: right;\">\n",
       "      <th></th>\n",
       "      <th>Amount</th>\n",
       "      <th>Date</th>\n",
       "      <th>Card Type</th>\n",
       "      <th>MCC Category</th>\n",
       "      <th>Location</th>\n",
       "      <th>Device</th>\n",
       "      <th>Previous Transactions</th>\n",
       "      <th>Balance Before Transaction</th>\n",
       "      <th>Time of Day</th>\n",
       "      <th>Velocity</th>\n",
       "      <th>Customer Age</th>\n",
       "      <th>Customer Income</th>\n",
       "      <th>Card Limit</th>\n",
       "      <th>Credit Score</th>\n",
       "      <th>Merchant Reputation</th>\n",
       "      <th>Merchant Location History</th>\n",
       "      <th>Spending Patterns</th>\n",
       "      <th>Online Transactions Frequency</th>\n",
       "      <th>Is Fraudulent</th>\n",
       "    </tr>\n",
       "  </thead>\n",
       "  <tbody>\n",
       "    <tr>\n",
       "      <th>count</th>\n",
       "      <td>1000.000000</td>\n",
       "      <td>1000</td>\n",
       "      <td>1000</td>\n",
       "      <td>1000</td>\n",
       "      <td>1000</td>\n",
       "      <td>1000</td>\n",
       "      <td>1000.000000</td>\n",
       "      <td>1000.000000</td>\n",
       "      <td>1000.000000</td>\n",
       "      <td>1000.000000</td>\n",
       "      <td>1000.000000</td>\n",
       "      <td>1000.000000</td>\n",
       "      <td>1000.000000</td>\n",
       "      <td>1000.0000</td>\n",
       "      <td>1000</td>\n",
       "      <td>1000.000000</td>\n",
       "      <td>1000.000000</td>\n",
       "      <td>1000</td>\n",
       "      <td>1000.000000</td>\n",
       "    </tr>\n",
       "    <tr>\n",
       "      <th>unique</th>\n",
       "      <td>NaN</td>\n",
       "      <td>340</td>\n",
       "      <td>3</td>\n",
       "      <td>7</td>\n",
       "      <td>5</td>\n",
       "      <td>3</td>\n",
       "      <td>NaN</td>\n",
       "      <td>NaN</td>\n",
       "      <td>NaN</td>\n",
       "      <td>NaN</td>\n",
       "      <td>NaN</td>\n",
       "      <td>NaN</td>\n",
       "      <td>NaN</td>\n",
       "      <td>NaN</td>\n",
       "      <td>3</td>\n",
       "      <td>NaN</td>\n",
       "      <td>NaN</td>\n",
       "      <td>3</td>\n",
       "      <td>NaN</td>\n",
       "    </tr>\n",
       "    <tr>\n",
       "      <th>top</th>\n",
       "      <td>NaN</td>\n",
       "      <td>27-08-2023</td>\n",
       "      <td>Credit</td>\n",
       "      <td>Travel</td>\n",
       "      <td>US</td>\n",
       "      <td>Desktop</td>\n",
       "      <td>NaN</td>\n",
       "      <td>NaN</td>\n",
       "      <td>NaN</td>\n",
       "      <td>NaN</td>\n",
       "      <td>NaN</td>\n",
       "      <td>NaN</td>\n",
       "      <td>NaN</td>\n",
       "      <td>NaN</td>\n",
       "      <td>Bad</td>\n",
       "      <td>NaN</td>\n",
       "      <td>NaN</td>\n",
       "      <td>Medium</td>\n",
       "      <td>NaN</td>\n",
       "    </tr>\n",
       "    <tr>\n",
       "      <th>freq</th>\n",
       "      <td>NaN</td>\n",
       "      <td>10</td>\n",
       "      <td>353</td>\n",
       "      <td>166</td>\n",
       "      <td>224</td>\n",
       "      <td>341</td>\n",
       "      <td>NaN</td>\n",
       "      <td>NaN</td>\n",
       "      <td>NaN</td>\n",
       "      <td>NaN</td>\n",
       "      <td>NaN</td>\n",
       "      <td>NaN</td>\n",
       "      <td>NaN</td>\n",
       "      <td>NaN</td>\n",
       "      <td>350</td>\n",
       "      <td>NaN</td>\n",
       "      <td>NaN</td>\n",
       "      <td>343</td>\n",
       "      <td>NaN</td>\n",
       "    </tr>\n",
       "    <tr>\n",
       "      <th>mean</th>\n",
       "      <td>520.177431</td>\n",
       "      <td>NaN</td>\n",
       "      <td>NaN</td>\n",
       "      <td>NaN</td>\n",
       "      <td>NaN</td>\n",
       "      <td>NaN</td>\n",
       "      <td>4.399000</td>\n",
       "      <td>4975.500335</td>\n",
       "      <td>11.425000</td>\n",
       "      <td>0.000316</td>\n",
       "      <td>49.432000</td>\n",
       "      <td>82963.616616</td>\n",
       "      <td>10474.007101</td>\n",
       "      <td>575.5080</td>\n",
       "      <td>NaN</td>\n",
       "      <td>9.754000</td>\n",
       "      <td>2746.678736</td>\n",
       "      <td>NaN</td>\n",
       "      <td>0.053000</td>\n",
       "    </tr>\n",
       "    <tr>\n",
       "      <th>std</th>\n",
       "      <td>279.342434</td>\n",
       "      <td>NaN</td>\n",
       "      <td>NaN</td>\n",
       "      <td>NaN</td>\n",
       "      <td>NaN</td>\n",
       "      <td>NaN</td>\n",
       "      <td>2.828745</td>\n",
       "      <td>2841.249947</td>\n",
       "      <td>6.834697</td>\n",
       "      <td>0.296206</td>\n",
       "      <td>17.332853</td>\n",
       "      <td>37021.434933</td>\n",
       "      <td>5734.063838</td>\n",
       "      <td>156.4581</td>\n",
       "      <td>NaN</td>\n",
       "      <td>5.395238</td>\n",
       "      <td>1311.365916</td>\n",
       "      <td>NaN</td>\n",
       "      <td>0.224146</td>\n",
       "    </tr>\n",
       "    <tr>\n",
       "      <th>min</th>\n",
       "      <td>10.456991</td>\n",
       "      <td>NaN</td>\n",
       "      <td>NaN</td>\n",
       "      <td>NaN</td>\n",
       "      <td>NaN</td>\n",
       "      <td>NaN</td>\n",
       "      <td>0.000000</td>\n",
       "      <td>123.460877</td>\n",
       "      <td>0.000000</td>\n",
       "      <td>-0.499891</td>\n",
       "      <td>20.000000</td>\n",
       "      <td>20084.715400</td>\n",
       "      <td>526.910912</td>\n",
       "      <td>300.0000</td>\n",
       "      <td>NaN</td>\n",
       "      <td>1.000000</td>\n",
       "      <td>500.559090</td>\n",
       "      <td>NaN</td>\n",
       "      <td>0.000000</td>\n",
       "    </tr>\n",
       "    <tr>\n",
       "      <th>25%</th>\n",
       "      <td>277.978547</td>\n",
       "      <td>NaN</td>\n",
       "      <td>NaN</td>\n",
       "      <td>NaN</td>\n",
       "      <td>NaN</td>\n",
       "      <td>NaN</td>\n",
       "      <td>2.000000</td>\n",
       "      <td>2435.129680</td>\n",
       "      <td>5.000000</td>\n",
       "      <td>-0.256706</td>\n",
       "      <td>35.000000</td>\n",
       "      <td>51725.434925</td>\n",
       "      <td>5287.512915</td>\n",
       "      <td>441.5000</td>\n",
       "      <td>NaN</td>\n",
       "      <td>5.000000</td>\n",
       "      <td>1561.576868</td>\n",
       "      <td>NaN</td>\n",
       "      <td>0.000000</td>\n",
       "    </tr>\n",
       "    <tr>\n",
       "      <th>50%</th>\n",
       "      <td>546.816714</td>\n",
       "      <td>NaN</td>\n",
       "      <td>NaN</td>\n",
       "      <td>NaN</td>\n",
       "      <td>NaN</td>\n",
       "      <td>NaN</td>\n",
       "      <td>4.000000</td>\n",
       "      <td>4794.595477</td>\n",
       "      <td>11.000000</td>\n",
       "      <td>-0.011424</td>\n",
       "      <td>50.000000</td>\n",
       "      <td>81693.952415</td>\n",
       "      <td>10569.195495</td>\n",
       "      <td>574.5000</td>\n",
       "      <td>NaN</td>\n",
       "      <td>10.000000</td>\n",
       "      <td>2839.222192</td>\n",
       "      <td>NaN</td>\n",
       "      <td>0.000000</td>\n",
       "    </tr>\n",
       "    <tr>\n",
       "      <th>75%</th>\n",
       "      <td>760.074571</td>\n",
       "      <td>NaN</td>\n",
       "      <td>NaN</td>\n",
       "      <td>NaN</td>\n",
       "      <td>NaN</td>\n",
       "      <td>NaN</td>\n",
       "      <td>7.000000</td>\n",
       "      <td>7384.965602</td>\n",
       "      <td>17.000000</td>\n",
       "      <td>0.277094</td>\n",
       "      <td>64.000000</td>\n",
       "      <td>113430.363550</td>\n",
       "      <td>15474.888343</td>\n",
       "      <td>715.5000</td>\n",
       "      <td>NaN</td>\n",
       "      <td>14.000000</td>\n",
       "      <td>3860.482776</td>\n",
       "      <td>NaN</td>\n",
       "      <td>0.000000</td>\n",
       "    </tr>\n",
       "    <tr>\n",
       "      <th>max</th>\n",
       "      <td>996.689893</td>\n",
       "      <td>NaN</td>\n",
       "      <td>NaN</td>\n",
       "      <td>NaN</td>\n",
       "      <td>NaN</td>\n",
       "      <td>NaN</td>\n",
       "      <td>9.000000</td>\n",
       "      <td>9975.859154</td>\n",
       "      <td>23.000000</td>\n",
       "      <td>0.499943</td>\n",
       "      <td>79.000000</td>\n",
       "      <td>149895.777600</td>\n",
       "      <td>19978.439670</td>\n",
       "      <td>849.0000</td>\n",
       "      <td>NaN</td>\n",
       "      <td>19.000000</td>\n",
       "      <td>4994.352225</td>\n",
       "      <td>NaN</td>\n",
       "      <td>1.000000</td>\n",
       "    </tr>\n",
       "  </tbody>\n",
       "</table>\n",
       "</div>"
      ],
      "text/plain": [
       "             Amount        Date Card Type MCC Category Location   Device  \\\n",
       "count   1000.000000        1000      1000         1000     1000     1000   \n",
       "unique          NaN         340         3            7        5        3   \n",
       "top             NaN  27-08-2023    Credit       Travel       US  Desktop   \n",
       "freq            NaN          10       353          166      224      341   \n",
       "mean     520.177431         NaN       NaN          NaN      NaN      NaN   \n",
       "std      279.342434         NaN       NaN          NaN      NaN      NaN   \n",
       "min       10.456991         NaN       NaN          NaN      NaN      NaN   \n",
       "25%      277.978547         NaN       NaN          NaN      NaN      NaN   \n",
       "50%      546.816714         NaN       NaN          NaN      NaN      NaN   \n",
       "75%      760.074571         NaN       NaN          NaN      NaN      NaN   \n",
       "max      996.689893         NaN       NaN          NaN      NaN      NaN   \n",
       "\n",
       "        Previous Transactions  Balance Before Transaction  Time of Day  \\\n",
       "count             1000.000000                 1000.000000  1000.000000   \n",
       "unique                    NaN                         NaN          NaN   \n",
       "top                       NaN                         NaN          NaN   \n",
       "freq                      NaN                         NaN          NaN   \n",
       "mean                 4.399000                 4975.500335    11.425000   \n",
       "std                  2.828745                 2841.249947     6.834697   \n",
       "min                  0.000000                  123.460877     0.000000   \n",
       "25%                  2.000000                 2435.129680     5.000000   \n",
       "50%                  4.000000                 4794.595477    11.000000   \n",
       "75%                  7.000000                 7384.965602    17.000000   \n",
       "max                  9.000000                 9975.859154    23.000000   \n",
       "\n",
       "           Velocity  Customer Age  Customer Income    Card Limit  \\\n",
       "count   1000.000000   1000.000000      1000.000000   1000.000000   \n",
       "unique          NaN           NaN              NaN           NaN   \n",
       "top             NaN           NaN              NaN           NaN   \n",
       "freq            NaN           NaN              NaN           NaN   \n",
       "mean       0.000316     49.432000     82963.616616  10474.007101   \n",
       "std        0.296206     17.332853     37021.434933   5734.063838   \n",
       "min       -0.499891     20.000000     20084.715400    526.910912   \n",
       "25%       -0.256706     35.000000     51725.434925   5287.512915   \n",
       "50%       -0.011424     50.000000     81693.952415  10569.195495   \n",
       "75%        0.277094     64.000000    113430.363550  15474.888343   \n",
       "max        0.499943     79.000000    149895.777600  19978.439670   \n",
       "\n",
       "        Credit Score Merchant Reputation  Merchant Location History  \\\n",
       "count      1000.0000                1000                1000.000000   \n",
       "unique           NaN                   3                        NaN   \n",
       "top              NaN                 Bad                        NaN   \n",
       "freq             NaN                 350                        NaN   \n",
       "mean        575.5080                 NaN                   9.754000   \n",
       "std         156.4581                 NaN                   5.395238   \n",
       "min         300.0000                 NaN                   1.000000   \n",
       "25%         441.5000                 NaN                   5.000000   \n",
       "50%         574.5000                 NaN                  10.000000   \n",
       "75%         715.5000                 NaN                  14.000000   \n",
       "max         849.0000                 NaN                  19.000000   \n",
       "\n",
       "        Spending Patterns Online Transactions Frequency  Is Fraudulent  \n",
       "count         1000.000000                          1000    1000.000000  \n",
       "unique                NaN                             3            NaN  \n",
       "top                   NaN                        Medium            NaN  \n",
       "freq                  NaN                           343            NaN  \n",
       "mean          2746.678736                           NaN       0.053000  \n",
       "std           1311.365916                           NaN       0.224146  \n",
       "min            500.559090                           NaN       0.000000  \n",
       "25%           1561.576868                           NaN       0.000000  \n",
       "50%           2839.222192                           NaN       0.000000  \n",
       "75%           3860.482776                           NaN       0.000000  \n",
       "max           4994.352225                           NaN       1.000000  "
      ]
     },
     "execution_count": 7,
     "metadata": {},
     "output_type": "execute_result"
    }
   ],
   "source": [
    "# Statistical summary\n",
    "df.describe(include = 'all')"
   ]
  },
  {
   "cell_type": "code",
   "execution_count": 8,
   "metadata": {},
   "outputs": [],
   "source": [
    "df['Date'] = pd.to_datetime(df['Date'], format='%d-%m-%Y', errors='coerce')\n",
    "df['Day'] = df['Date'].dt.day\n",
    "df['Month'] = df['Date'].dt.month\n",
    "df['Year'] = df['Date'].dt.year\n",
    "df.drop('Date', axis=1, inplace=True)"
   ]
  },
  {
   "cell_type": "code",
   "execution_count": 9,
   "metadata": {},
   "outputs": [
    {
     "data": {
      "text/html": [
       "<div>\n",
       "<style scoped>\n",
       "    .dataframe tbody tr th:only-of-type {\n",
       "        vertical-align: middle;\n",
       "    }\n",
       "\n",
       "    .dataframe tbody tr th {\n",
       "        vertical-align: top;\n",
       "    }\n",
       "\n",
       "    .dataframe thead th {\n",
       "        text-align: right;\n",
       "    }\n",
       "</style>\n",
       "<table border=\"1\" class=\"dataframe\">\n",
       "  <thead>\n",
       "    <tr style=\"text-align: right;\">\n",
       "      <th></th>\n",
       "      <th>Amount</th>\n",
       "      <th>Card Type</th>\n",
       "      <th>MCC Category</th>\n",
       "      <th>Location</th>\n",
       "      <th>Device</th>\n",
       "      <th>Previous Transactions</th>\n",
       "      <th>Balance Before Transaction</th>\n",
       "      <th>Time of Day</th>\n",
       "      <th>Velocity</th>\n",
       "      <th>Customer Age</th>\n",
       "      <th>...</th>\n",
       "      <th>Card Limit</th>\n",
       "      <th>Credit Score</th>\n",
       "      <th>Merchant Reputation</th>\n",
       "      <th>Merchant Location History</th>\n",
       "      <th>Spending Patterns</th>\n",
       "      <th>Online Transactions Frequency</th>\n",
       "      <th>Is Fraudulent</th>\n",
       "      <th>Day</th>\n",
       "      <th>Month</th>\n",
       "      <th>Year</th>\n",
       "    </tr>\n",
       "  </thead>\n",
       "  <tbody>\n",
       "    <tr>\n",
       "      <th>0</th>\n",
       "      <td>180.924993</td>\n",
       "      <td>Debit</td>\n",
       "      <td>Electronics</td>\n",
       "      <td>UK</td>\n",
       "      <td>Desktop</td>\n",
       "      <td>6</td>\n",
       "      <td>919.055267</td>\n",
       "      <td>10</td>\n",
       "      <td>-0.337955</td>\n",
       "      <td>52</td>\n",
       "      <td>...</td>\n",
       "      <td>2503.758986</td>\n",
       "      <td>401</td>\n",
       "      <td>Average</td>\n",
       "      <td>6</td>\n",
       "      <td>828.820298</td>\n",
       "      <td>Medium</td>\n",
       "      <td>0</td>\n",
       "      <td>2</td>\n",
       "      <td>7</td>\n",
       "      <td>2023</td>\n",
       "    </tr>\n",
       "    <tr>\n",
       "      <th>1</th>\n",
       "      <td>794.625797</td>\n",
       "      <td>Prepaid</td>\n",
       "      <td>Groceries</td>\n",
       "      <td>Canada</td>\n",
       "      <td>Desktop</td>\n",
       "      <td>5</td>\n",
       "      <td>3529.930762</td>\n",
       "      <td>17</td>\n",
       "      <td>0.015117</td>\n",
       "      <td>62</td>\n",
       "      <td>...</td>\n",
       "      <td>12885.681730</td>\n",
       "      <td>409</td>\n",
       "      <td>Average</td>\n",
       "      <td>13</td>\n",
       "      <td>4384.528307</td>\n",
       "      <td>Low</td>\n",
       "      <td>1</td>\n",
       "      <td>18</td>\n",
       "      <td>2</td>\n",
       "      <td>2023</td>\n",
       "    </tr>\n",
       "    <tr>\n",
       "      <th>2</th>\n",
       "      <td>818.413303</td>\n",
       "      <td>Prepaid</td>\n",
       "      <td>Electronics</td>\n",
       "      <td>UK</td>\n",
       "      <td>POS</td>\n",
       "      <td>5</td>\n",
       "      <td>6578.889931</td>\n",
       "      <td>4</td>\n",
       "      <td>-0.198457</td>\n",
       "      <td>42</td>\n",
       "      <td>...</td>\n",
       "      <td>2039.105869</td>\n",
       "      <td>323</td>\n",
       "      <td>Good</td>\n",
       "      <td>1</td>\n",
       "      <td>733.282224</td>\n",
       "      <td>High</td>\n",
       "      <td>0</td>\n",
       "      <td>2</td>\n",
       "      <td>1</td>\n",
       "      <td>2023</td>\n",
       "    </tr>\n",
       "    <tr>\n",
       "      <th>3</th>\n",
       "      <td>530.306522</td>\n",
       "      <td>Credit</td>\n",
       "      <td>Restaurants</td>\n",
       "      <td>US</td>\n",
       "      <td>Mobile</td>\n",
       "      <td>3</td>\n",
       "      <td>8036.856328</td>\n",
       "      <td>20</td>\n",
       "      <td>-0.076741</td>\n",
       "      <td>76</td>\n",
       "      <td>...</td>\n",
       "      <td>5568.880208</td>\n",
       "      <td>674</td>\n",
       "      <td>Bad</td>\n",
       "      <td>1</td>\n",
       "      <td>670.074148</td>\n",
       "      <td>High</td>\n",
       "      <td>0</td>\n",
       "      <td>21</td>\n",
       "      <td>3</td>\n",
       "      <td>2023</td>\n",
       "    </tr>\n",
       "    <tr>\n",
       "      <th>4</th>\n",
       "      <td>649.101853</td>\n",
       "      <td>Debit</td>\n",
       "      <td>Electronics</td>\n",
       "      <td>Canada</td>\n",
       "      <td>Desktop</td>\n",
       "      <td>4</td>\n",
       "      <td>5342.795887</td>\n",
       "      <td>16</td>\n",
       "      <td>-0.029077</td>\n",
       "      <td>39</td>\n",
       "      <td>...</td>\n",
       "      <td>6945.439545</td>\n",
       "      <td>533</td>\n",
       "      <td>Good</td>\n",
       "      <td>3</td>\n",
       "      <td>550.619875</td>\n",
       "      <td>Low</td>\n",
       "      <td>0</td>\n",
       "      <td>28</td>\n",
       "      <td>8</td>\n",
       "      <td>2023</td>\n",
       "    </tr>\n",
       "    <tr>\n",
       "      <th>...</th>\n",
       "      <td>...</td>\n",
       "      <td>...</td>\n",
       "      <td>...</td>\n",
       "      <td>...</td>\n",
       "      <td>...</td>\n",
       "      <td>...</td>\n",
       "      <td>...</td>\n",
       "      <td>...</td>\n",
       "      <td>...</td>\n",
       "      <td>...</td>\n",
       "      <td>...</td>\n",
       "      <td>...</td>\n",
       "      <td>...</td>\n",
       "      <td>...</td>\n",
       "      <td>...</td>\n",
       "      <td>...</td>\n",
       "      <td>...</td>\n",
       "      <td>...</td>\n",
       "      <td>...</td>\n",
       "      <td>...</td>\n",
       "      <td>...</td>\n",
       "    </tr>\n",
       "    <tr>\n",
       "      <th>995</th>\n",
       "      <td>536.205566</td>\n",
       "      <td>Debit</td>\n",
       "      <td>Healthcare</td>\n",
       "      <td>Germany</td>\n",
       "      <td>Mobile</td>\n",
       "      <td>6</td>\n",
       "      <td>7131.892816</td>\n",
       "      <td>0</td>\n",
       "      <td>0.428024</td>\n",
       "      <td>72</td>\n",
       "      <td>...</td>\n",
       "      <td>11581.476660</td>\n",
       "      <td>656</td>\n",
       "      <td>Average</td>\n",
       "      <td>14</td>\n",
       "      <td>1689.854359</td>\n",
       "      <td>High</td>\n",
       "      <td>0</td>\n",
       "      <td>21</td>\n",
       "      <td>5</td>\n",
       "      <td>2023</td>\n",
       "    </tr>\n",
       "    <tr>\n",
       "      <th>996</th>\n",
       "      <td>615.954996</td>\n",
       "      <td>Credit</td>\n",
       "      <td>Clothing</td>\n",
       "      <td>Germany</td>\n",
       "      <td>Desktop</td>\n",
       "      <td>8</td>\n",
       "      <td>6940.176274</td>\n",
       "      <td>14</td>\n",
       "      <td>0.430410</td>\n",
       "      <td>40</td>\n",
       "      <td>...</td>\n",
       "      <td>15882.824560</td>\n",
       "      <td>312</td>\n",
       "      <td>Bad</td>\n",
       "      <td>11</td>\n",
       "      <td>856.937352</td>\n",
       "      <td>High</td>\n",
       "      <td>0</td>\n",
       "      <td>16</td>\n",
       "      <td>4</td>\n",
       "      <td>2023</td>\n",
       "    </tr>\n",
       "    <tr>\n",
       "      <th>997</th>\n",
       "      <td>472.562610</td>\n",
       "      <td>Credit</td>\n",
       "      <td>Healthcare</td>\n",
       "      <td>France</td>\n",
       "      <td>Desktop</td>\n",
       "      <td>4</td>\n",
       "      <td>4209.798746</td>\n",
       "      <td>9</td>\n",
       "      <td>0.477102</td>\n",
       "      <td>54</td>\n",
       "      <td>...</td>\n",
       "      <td>17589.131740</td>\n",
       "      <td>424</td>\n",
       "      <td>Average</td>\n",
       "      <td>4</td>\n",
       "      <td>2356.880557</td>\n",
       "      <td>Low</td>\n",
       "      <td>0</td>\n",
       "      <td>27</td>\n",
       "      <td>8</td>\n",
       "      <td>2023</td>\n",
       "    </tr>\n",
       "    <tr>\n",
       "      <th>998</th>\n",
       "      <td>517.723900</td>\n",
       "      <td>Debit</td>\n",
       "      <td>Entertainment</td>\n",
       "      <td>US</td>\n",
       "      <td>POS</td>\n",
       "      <td>8</td>\n",
       "      <td>496.330227</td>\n",
       "      <td>4</td>\n",
       "      <td>0.331765</td>\n",
       "      <td>21</td>\n",
       "      <td>...</td>\n",
       "      <td>15900.001060</td>\n",
       "      <td>529</td>\n",
       "      <td>Good</td>\n",
       "      <td>6</td>\n",
       "      <td>814.016929</td>\n",
       "      <td>Low</td>\n",
       "      <td>0</td>\n",
       "      <td>25</td>\n",
       "      <td>11</td>\n",
       "      <td>2023</td>\n",
       "    </tr>\n",
       "    <tr>\n",
       "      <th>999</th>\n",
       "      <td>489.865943</td>\n",
       "      <td>Debit</td>\n",
       "      <td>Electronics</td>\n",
       "      <td>US</td>\n",
       "      <td>Desktop</td>\n",
       "      <td>0</td>\n",
       "      <td>4015.643994</td>\n",
       "      <td>13</td>\n",
       "      <td>0.109080</td>\n",
       "      <td>71</td>\n",
       "      <td>...</td>\n",
       "      <td>14111.272230</td>\n",
       "      <td>542</td>\n",
       "      <td>Average</td>\n",
       "      <td>7</td>\n",
       "      <td>1311.880140</td>\n",
       "      <td>Medium</td>\n",
       "      <td>0</td>\n",
       "      <td>9</td>\n",
       "      <td>11</td>\n",
       "      <td>2023</td>\n",
       "    </tr>\n",
       "  </tbody>\n",
       "</table>\n",
       "<p>1000 rows × 21 columns</p>\n",
       "</div>"
      ],
      "text/plain": [
       "         Amount Card Type   MCC Category Location   Device  \\\n",
       "0    180.924993     Debit    Electronics       UK  Desktop   \n",
       "1    794.625797   Prepaid      Groceries   Canada  Desktop   \n",
       "2    818.413303   Prepaid    Electronics       UK      POS   \n",
       "3    530.306522    Credit    Restaurants       US   Mobile   \n",
       "4    649.101853     Debit    Electronics   Canada  Desktop   \n",
       "..          ...       ...            ...      ...      ...   \n",
       "995  536.205566     Debit     Healthcare  Germany   Mobile   \n",
       "996  615.954996    Credit       Clothing  Germany  Desktop   \n",
       "997  472.562610    Credit     Healthcare   France  Desktop   \n",
       "998  517.723900     Debit  Entertainment       US      POS   \n",
       "999  489.865943     Debit    Electronics       US  Desktop   \n",
       "\n",
       "     Previous Transactions  Balance Before Transaction  Time of Day  Velocity  \\\n",
       "0                        6                  919.055267           10 -0.337955   \n",
       "1                        5                 3529.930762           17  0.015117   \n",
       "2                        5                 6578.889931            4 -0.198457   \n",
       "3                        3                 8036.856328           20 -0.076741   \n",
       "4                        4                 5342.795887           16 -0.029077   \n",
       "..                     ...                         ...          ...       ...   \n",
       "995                      6                 7131.892816            0  0.428024   \n",
       "996                      8                 6940.176274           14  0.430410   \n",
       "997                      4                 4209.798746            9  0.477102   \n",
       "998                      8                  496.330227            4  0.331765   \n",
       "999                      0                 4015.643994           13  0.109080   \n",
       "\n",
       "     Customer Age  ...    Card Limit  Credit Score  Merchant Reputation  \\\n",
       "0              52  ...   2503.758986           401              Average   \n",
       "1              62  ...  12885.681730           409              Average   \n",
       "2              42  ...   2039.105869           323                 Good   \n",
       "3              76  ...   5568.880208           674                  Bad   \n",
       "4              39  ...   6945.439545           533                 Good   \n",
       "..            ...  ...           ...           ...                  ...   \n",
       "995            72  ...  11581.476660           656              Average   \n",
       "996            40  ...  15882.824560           312                  Bad   \n",
       "997            54  ...  17589.131740           424              Average   \n",
       "998            21  ...  15900.001060           529                 Good   \n",
       "999            71  ...  14111.272230           542              Average   \n",
       "\n",
       "    Merchant Location History  Spending Patterns  \\\n",
       "0                           6         828.820298   \n",
       "1                          13        4384.528307   \n",
       "2                           1         733.282224   \n",
       "3                           1         670.074148   \n",
       "4                           3         550.619875   \n",
       "..                        ...                ...   \n",
       "995                        14        1689.854359   \n",
       "996                        11         856.937352   \n",
       "997                         4        2356.880557   \n",
       "998                         6         814.016929   \n",
       "999                         7        1311.880140   \n",
       "\n",
       "     Online Transactions Frequency Is Fraudulent  Day  Month  Year  \n",
       "0                           Medium             0    2      7  2023  \n",
       "1                              Low             1   18      2  2023  \n",
       "2                             High             0    2      1  2023  \n",
       "3                             High             0   21      3  2023  \n",
       "4                              Low             0   28      8  2023  \n",
       "..                             ...           ...  ...    ...   ...  \n",
       "995                           High             0   21      5  2023  \n",
       "996                           High             0   16      4  2023  \n",
       "997                            Low             0   27      8  2023  \n",
       "998                            Low             0   25     11  2023  \n",
       "999                         Medium             0    9     11  2023  \n",
       "\n",
       "[1000 rows x 21 columns]"
      ]
     },
     "execution_count": 9,
     "metadata": {},
     "output_type": "execute_result"
    }
   ],
   "source": [
    "df"
   ]
  },
  {
   "cell_type": "markdown",
   "metadata": {},
   "source": [
    "# <b>2. Data Visualization & Exploration</b>"
   ]
  },
  {
   "cell_type": "code",
   "execution_count": 10,
   "metadata": {},
   "outputs": [
    {
     "name": "stdout",
     "output_type": "stream",
     "text": [
      "List of Numerical featues ['Amount', 'Previous Transactions', 'Balance Before Transaction', 'Time of Day', 'Velocity', 'Customer Age', 'Customer Income', 'Card Limit', 'Credit Score', 'Merchant Location History', 'Spending Patterns', 'Is Fraudulent', 'Day', 'Month', 'Year']\n"
     ]
    }
   ],
   "source": [
    "# Let's separate categorical and numerical data separatley\n",
    "num_var = [feature for feature in df.columns if df[feature].dtypes != 'O']\n",
    "print('List of Numerical featues {}'.format(num_var))"
   ]
  },
  {
   "cell_type": "code",
   "execution_count": 11,
   "metadata": {},
   "outputs": [
    {
     "name": "stdout",
     "output_type": "stream",
     "text": [
      "List of categorical variables ['Card Type', 'MCC Category', 'Location', 'Device', 'Merchant Reputation', 'Online Transactions Frequency']\n"
     ]
    }
   ],
   "source": [
    "# extract the categorical variables\n",
    "cat_var = [ feature for feature in df.columns if df[feature].dtypes=='O']\n",
    "print('List of categorical variables {}'.format(cat_var))"
   ]
  },
  {
   "cell_type": "code",
   "execution_count": 12,
   "metadata": {},
   "outputs": [],
   "source": [
    "# Set the color coding for the visualizations to be plotted\n",
    "from matplotlib import cm\n",
    "cmap = cm.get_cmap('jet')\n",
    "cmap1 = cm.get_cmap('Spectral')"
   ]
  },
  {
   "cell_type": "code",
   "execution_count": 13,
   "metadata": {},
   "outputs": [
    {
     "data": {
      "text/plain": [
       "Is Fraudulent\n",
       "0    947\n",
       "1     53\n",
       "Name: count, dtype: int64"
      ]
     },
     "execution_count": 13,
     "metadata": {},
     "output_type": "execute_result"
    }
   ],
   "source": [
    "df['Is Fraudulent'].value_counts()"
   ]
  },
  {
   "cell_type": "markdown",
   "metadata": {},
   "source": [
    "<b>Class Imbalance</b>"
   ]
  },
  {
   "cell_type": "code",
   "execution_count": 14,
   "metadata": {},
   "outputs": [
    {
     "name": "stdout",
     "output_type": "stream",
     "text": [
      "Is Fraudulent\n",
      "0    947\n",
      "1     53\n",
      "Name: count, dtype: int64\n"
     ]
    },
    {
     "data": {
      "image/png": "[encoded data removed]",
      "text/plain": [
       "<Figure size 800x600 with 1 Axes>"
      ]
     },
     "metadata": {},
     "output_type": "display_data"
    }
   ],
   "source": [
    "fraudulent_counts = df['Is Fraudulent'].value_counts()\n",
    "print(fraudulent_counts)\n",
    "\n",
    "# Plotting\n",
    "plt.figure(figsize=(8, 6))\n",
    "fraudulent_counts.plot(kind='bar', color=['blue', 'red'])\n",
    "plt.title('Class Distribution of Fraudulent Transactions')\n",
    "plt.xlabel('Is Fraudulent')\n",
    "plt.ylabel('Count')\n",
    "plt.xticks(rotation=0)\n",
    "plt.show()"
   ]
  },
  {
   "cell_type": "markdown",
   "metadata": {},
   "source": [
    "As we can see 'Is fraudulent' class is imbalanced one and can provide biased results if not properly balanced. We can use SMOTE and balance the class"
   ]
  },
  {
   "cell_type": "markdown",
   "metadata": {},
   "source": [
    "<b>Exploratory data analysis</b>"
   ]
  },
  {
   "cell_type": "code",
   "execution_count": 15,
   "metadata": {},
   "outputs": [
    {
     "data": {
      "image/png": "[encoded data removed]",
      "text/plain": [
       "<Figure size 2000x1200 with 6 Axes>"
      ]
     },
     "metadata": {},
     "output_type": "display_data"
    }
   ],
   "source": [
    "#Prepare a 2 by 2 layout two render these categorical attributes\n",
    "fig, axis = plt.subplots(nrows=3, ncols=2, figsize=(20, 12))\n",
    "fig.subplots_adjust(top=1.2)\n",
    "\n",
    "sns.countplot(data=df, x=\"Card Type\", ax=axis[0,0])\n",
    "sns.countplot(data=df, x=\"MCC Category\", ax=axis[0,1])\n",
    "sns.countplot(data=df, x=\"Location\", ax=axis[1,0])\n",
    "sns.countplot(data=df, x=\"Device\", ax=axis[1,1])\n",
    "sns.countplot(data=df, x=\"Merchant Reputation\", ax=axis[2,0])\n",
    "sns.countplot(data=df, x=\"Online Transactions Frequency\", ax=axis[2,1])\n",
    "plt.show()"
   ]
  },
  {
   "cell_type": "code",
   "execution_count": 16,
   "metadata": {},
   "outputs": [
    {
     "name": "stdout",
     "output_type": "stream",
     "text": [
      "\n",
      "\n"
     ]
    },
    {
     "data": {
      "image/png": "[encoded data removed]",
      "text/plain": [
       "<Figure size 800x600 with 1 Axes>"
      ]
     },
     "metadata": {},
     "output_type": "display_data"
    },
    {
     "name": "stdout",
     "output_type": "stream",
     "text": [
      "\n",
      "\n"
     ]
    },
    {
     "data": {
      "image/png": "[encoded data removed]",
      "text/plain": [
       "<Figure size 640x480 with 1 Axes>"
      ]
     },
     "metadata": {},
     "output_type": "display_data"
    },
    {
     "name": "stdout",
     "output_type": "stream",
     "text": [
      "\n",
      "\n"
     ]
    },
    {
     "data": {
      "image/png": "[encoded data removed]",
      "text/plain": [
       "<Figure size 640x480 with 1 Axes>"
      ]
     },
     "metadata": {},
     "output_type": "display_data"
    },
    {
     "name": "stdout",
     "output_type": "stream",
     "text": [
      "\n",
      "\n"
     ]
    },
    {
     "data": {
      "image/png": "[encoded data removed]",
      "text/plain": [
       "<Figure size 640x480 with 1 Axes>"
      ]
     },
     "metadata": {},
     "output_type": "display_data"
    },
    {
     "name": "stdout",
     "output_type": "stream",
     "text": [
      "\n",
      "\n"
     ]
    },
    {
     "data": {
      "image/png": "[encoded data removed]",
      "text/plain": [
       "<Figure size 640x480 with 1 Axes>"
      ]
     },
     "metadata": {},
     "output_type": "display_data"
    },
    {
     "name": "stdout",
     "output_type": "stream",
     "text": [
      "\n",
      "\n"
     ]
    },
    {
     "data": {
      "image/png": "[encoded data removed]",
      "text/plain": [
       "<Figure size 640x480 with 1 Axes>"
      ]
     },
     "metadata": {},
     "output_type": "display_data"
    },
    {
     "name": "stdout",
     "output_type": "stream",
     "text": [
      "\n",
      "\n"
     ]
    },
    {
     "data": {
      "image/png": "[encoded data removed]",
      "text/plain": [
       "<Figure size 640x480 with 1 Axes>"
      ]
     },
     "metadata": {},
     "output_type": "display_data"
    },
    {
     "name": "stdout",
     "output_type": "stream",
     "text": [
      "\n",
      "\n"
     ]
    },
    {
     "data": {
      "image/png": "[encoded data removed]",
      "text/plain": [
       "<Figure size 640x480 with 1 Axes>"
      ]
     },
     "metadata": {},
     "output_type": "display_data"
    },
    {
     "name": "stdout",
     "output_type": "stream",
     "text": [
      "\n",
      "\n"
     ]
    },
    {
     "data": {
      "image/png": "[encoded data removed]",
      "text/plain": [
       "<Figure size 640x480 with 1 Axes>"
      ]
     },
     "metadata": {},
     "output_type": "display_data"
    },
    {
     "name": "stdout",
     "output_type": "stream",
     "text": [
      "\n",
      "\n"
     ]
    },
    {
     "data": {
      "image/png": "[encoded data removed]",
      "text/plain": [
       "<Figure size 640x480 with 1 Axes>"
      ]
     },
     "metadata": {},
     "output_type": "display_data"
    },
    {
     "name": "stdout",
     "output_type": "stream",
     "text": [
      "\n",
      "\n"
     ]
    },
    {
     "data": {
      "image/png": "[encoded data removed]",
      "text/plain": [
       "<Figure size 640x480 with 1 Axes>"
      ]
     },
     "metadata": {},
     "output_type": "display_data"
    },
    {
     "name": "stdout",
     "output_type": "stream",
     "text": [
      "\n",
      "\n"
     ]
    },
    {
     "data": {
      "image/png": "[encoded data removed]",
      "text/plain": [
       "<Figure size 640x480 with 1 Axes>"
      ]
     },
     "metadata": {},
     "output_type": "display_data"
    },
    {
     "name": "stdout",
     "output_type": "stream",
     "text": [
      "\n",
      "\n"
     ]
    },
    {
     "data": {
      "image/png": "[encoded data removed]",
      "text/plain": [
       "<Figure size 640x480 with 1 Axes>"
      ]
     },
     "metadata": {},
     "output_type": "display_data"
    },
    {
     "name": "stdout",
     "output_type": "stream",
     "text": [
      "\n",
      "\n"
     ]
    },
    {
     "data": {
      "image/png": "[encoded data removed]",
      "text/plain": [
       "<Figure size 640x480 with 1 Axes>"
      ]
     },
     "metadata": {},
     "output_type": "display_data"
    },
    {
     "name": "stdout",
     "output_type": "stream",
     "text": [
      "\n",
      "\n"
     ]
    },
    {
     "data": {
      "image/png": "[encoded data removed]",
      "text/plain": [
       "<Figure size 640x480 with 1 Axes>"
      ]
     },
     "metadata": {},
     "output_type": "display_data"
    }
   ],
   "source": [
    "import seaborn as sns\n",
    "import matplotlib.pyplot as plt\n",
    "plt.figure(figsize=(8,6))\n",
    "x=0\n",
    "for i in num_var:\n",
    "    sns.histplot(data=df,x=i,kde=True)\n",
    "    print('\\n')\n",
    "    plt.show()"
   ]
  },
  {
   "cell_type": "markdown",
   "metadata": {},
   "source": [
    "<b>EDA- Using Box Plot</b>"
   ]
  },
  {
   "cell_type": "code",
   "execution_count": 17,
   "metadata": {},
   "outputs": [
    {
     "data": {
      "image/png": "[encoded data removed]",
      "text/plain": [
       "<Figure size 1600x500 with 1 Axes>"
      ]
     },
     "metadata": {},
     "output_type": "display_data"
    },
    {
     "data": {
      "image/png": "[encoded data removed]",
      "text/plain": [
       "<Figure size 1600x500 with 1 Axes>"
      ]
     },
     "metadata": {},
     "output_type": "display_data"
    },
    {
     "data": {
      "image/png": "[encoded data removed]",
      "text/plain": [
       "<Figure size 1600x500 with 1 Axes>"
      ]
     },
     "metadata": {},
     "output_type": "display_data"
    },
    {
     "data": {
      "image/png": "[encoded data removed]",
      "text/plain": [
       "<Figure size 1600x500 with 1 Axes>"
      ]
     },
     "metadata": {},
     "output_type": "display_data"
    },
    {
     "data": {
      "image/png": "[encoded data removed]",
      "text/plain": [
       "<Figure size 1600x500 with 1 Axes>"
      ]
     },
     "metadata": {},
     "output_type": "display_data"
    },
    {
     "data": {
      "image/png": "[encoded data removed]",
      "text/plain": [
       "<Figure size 1600x500 with 1 Axes>"
      ]
     },
     "metadata": {},
     "output_type": "display_data"
    }
   ],
   "source": [
    "#Prepare a layout to render these numerical attributes\n",
    "plt.subplot(121) \n",
    "# sns.distplot(df['Amount'], hist=True, kde=False); \n",
    "df['Amount'].plot.box(figsize=(16,5)) \n",
    "plt.show()\n",
    "\n",
    "plt.subplot(122) \n",
    "df['Previous Transactions'].plot.box(figsize=(16,5)) \n",
    "plt.show()\n",
    "\n",
    "plt.subplot(211) \n",
    "df['Customer Income'].plot.box(figsize=(16,5)) \n",
    "plt.show()\n",
    "\n",
    "plt.subplot(212) \n",
    "df['Card Limit'].plot.box(figsize=(16,5)) \n",
    "plt.show()\n",
    "\n",
    "plt.subplot(311) \n",
    "df['Spending Patterns'].plot.box(figsize=(16,5)) \n",
    "plt.show()\n",
    "\n",
    "plt.subplot(312) \n",
    "df['Credit Score'].plot.box(figsize=(16,5)) \n",
    "plt.show()"
   ]
  },
  {
   "cell_type": "markdown",
   "metadata": {},
   "source": [
    "<b>Compare Categorical Variables with Target</b>"
   ]
  },
  {
   "cell_type": "code",
   "execution_count": 18,
   "metadata": {},
   "outputs": [],
   "source": [
    "#Set the visuzalization style\n",
    "from matplotlib import cm\n",
    "cmap = cm.get_cmap('Spectral')"
   ]
  },
  {
   "cell_type": "code",
   "execution_count": 19,
   "metadata": {},
   "outputs": [
    {
     "data": {
      "text/plain": [
       "Index(['Amount', 'Card Type', 'MCC Category', 'Location', 'Device',\n",
       "       'Previous Transactions', 'Balance Before Transaction', 'Time of Day',\n",
       "       'Velocity', 'Customer Age', 'Customer Income', 'Card Limit',\n",
       "       'Credit Score', 'Merchant Reputation', 'Merchant Location History',\n",
       "       'Spending Patterns', 'Online Transactions Frequency', 'Is Fraudulent',\n",
       "       'Day', 'Month', 'Year'],\n",
       "      dtype='object')"
      ]
     },
     "execution_count": 19,
     "metadata": {},
     "output_type": "execute_result"
    }
   ],
   "source": [
    "df.columns"
   ]
  },
  {
   "cell_type": "code",
   "execution_count": 20,
   "metadata": {},
   "outputs": [
    {
     "data": {
      "text/html": [
       "<div>\n",
       "<style scoped>\n",
       "    .dataframe tbody tr th:only-of-type {\n",
       "        vertical-align: middle;\n",
       "    }\n",
       "\n",
       "    .dataframe tbody tr th {\n",
       "        vertical-align: top;\n",
       "    }\n",
       "\n",
       "    .dataframe thead th {\n",
       "        text-align: right;\n",
       "    }\n",
       "</style>\n",
       "<table border=\"1\" class=\"dataframe\">\n",
       "  <thead>\n",
       "    <tr style=\"text-align: right;\">\n",
       "      <th>Is Fraudulent</th>\n",
       "      <th>0</th>\n",
       "      <th>1</th>\n",
       "    </tr>\n",
       "    <tr>\n",
       "      <th>Card Type</th>\n",
       "      <th></th>\n",
       "      <th></th>\n",
       "    </tr>\n",
       "  </thead>\n",
       "  <tbody>\n",
       "    <tr>\n",
       "      <th>Credit</th>\n",
       "      <td>332</td>\n",
       "      <td>21</td>\n",
       "    </tr>\n",
       "    <tr>\n",
       "      <th>Debit</th>\n",
       "      <td>312</td>\n",
       "      <td>17</td>\n",
       "    </tr>\n",
       "    <tr>\n",
       "      <th>Prepaid</th>\n",
       "      <td>303</td>\n",
       "      <td>15</td>\n",
       "    </tr>\n",
       "  </tbody>\n",
       "</table>\n",
       "</div>"
      ],
      "text/plain": [
       "Is Fraudulent    0   1\n",
       "Card Type             \n",
       "Credit         332  21\n",
       "Debit          312  17\n",
       "Prepaid        303  15"
      ]
     },
     "execution_count": 20,
     "metadata": {},
     "output_type": "execute_result"
    }
   ],
   "source": [
    "Card_Type=pd.crosstab(df['Card Type'],df['Is Fraudulent'])\n",
    "Card_Type"
   ]
  },
  {
   "cell_type": "code",
   "execution_count": 21,
   "metadata": {},
   "outputs": [
    {
     "data": {
      "text/plain": [
       "<Axes: ylabel='Card Type'>"
      ]
     },
     "execution_count": 21,
     "metadata": {},
     "output_type": "execute_result"
    },
    {
     "data": {
      "image/png": "[encoded data removed]",
      "text/plain": [
       "<Figure size 400x400 with 1 Axes>"
      ]
     },
     "metadata": {},
     "output_type": "display_data"
    }
   ],
   "source": [
    "Card_Type.div(Card_Type.sum(1).astype(float), axis=0).plot(kind=\"barh\", cmap=cmap, stacked=True, figsize=(4,4))"
   ]
  },
  {
   "cell_type": "code",
   "execution_count": 22,
   "metadata": {},
   "outputs": [
    {
     "data": {
      "image/png": "[encoded data removed]",
      "text/plain": [
       "<Figure size 1000x400 with 1 Axes>"
      ]
     },
     "metadata": {},
     "output_type": "display_data"
    }
   ],
   "source": [
    "Device=pd.crosstab(df['Device'],df['Is Fraudulent'])\n",
    "Device.div(Device.sum(1).astype(float), axis=0).plot(kind=\"barh\", cmap=cmap, stacked=True, figsize=(10,4)) \n",
    "plt.show()"
   ]
  },
  {
   "cell_type": "code",
   "execution_count": 23,
   "metadata": {},
   "outputs": [
    {
     "data": {
      "image/png": "[encoded data removed]",
      "text/plain": [
       "<Figure size 1000x400 with 1 Axes>"
      ]
     },
     "metadata": {},
     "output_type": "display_data"
    }
   ],
   "source": [
    "Location=pd.crosstab(df['Location'],df['Is Fraudulent'])\n",
    "Location.div(Location.sum(1).astype(float), axis=0).plot(kind=\"barh\", cmap=cmap, stacked=True, figsize=(10,4)) \n",
    "plt.show()"
   ]
  },
  {
   "cell_type": "markdown",
   "metadata": {},
   "source": [
    "<b> Observations </b>\n",
    "\n",
    "    1. There are no outliers in the data.\n",
    "\n",
    "    2. we have shown abobe the Exploratory data analysis of categorical and numerical variables.\n",
    "\n",
    "    3. As per the charts and numbers, Target data is imbalanced and we need to balance the class \n",
    "       else it will be biased results and may not give the correct results. \n",
    "       We will be using SMOTE package analysis for balancing the datasets.\n"
   ]
  },
  {
   "cell_type": "code",
   "execution_count": 24,
   "metadata": {},
   "outputs": [],
   "source": [
    "# !pip install SMOTE"
   ]
  },
  {
   "cell_type": "markdown",
   "metadata": {},
   "source": [
    "<b>Correlation</b>"
   ]
  },
  {
   "cell_type": "code",
   "execution_count": 25,
   "metadata": {},
   "outputs": [
    {
     "data": {
      "text/html": [
       "<div>\n",
       "<style scoped>\n",
       "    .dataframe tbody tr th:only-of-type {\n",
       "        vertical-align: middle;\n",
       "    }\n",
       "\n",
       "    .dataframe tbody tr th {\n",
       "        vertical-align: top;\n",
       "    }\n",
       "\n",
       "    .dataframe thead th {\n",
       "        text-align: right;\n",
       "    }\n",
       "</style>\n",
       "<table border=\"1\" class=\"dataframe\">\n",
       "  <thead>\n",
       "    <tr style=\"text-align: right;\">\n",
       "      <th></th>\n",
       "      <th>Amount</th>\n",
       "      <th>Previous Transactions</th>\n",
       "      <th>Balance Before Transaction</th>\n",
       "      <th>Time of Day</th>\n",
       "      <th>Velocity</th>\n",
       "      <th>Customer Age</th>\n",
       "      <th>Customer Income</th>\n",
       "      <th>Card Limit</th>\n",
       "      <th>Credit Score</th>\n",
       "      <th>Merchant Location History</th>\n",
       "      <th>Spending Patterns</th>\n",
       "      <th>Is Fraudulent</th>\n",
       "      <th>Day</th>\n",
       "      <th>Month</th>\n",
       "      <th>Year</th>\n",
       "    </tr>\n",
       "  </thead>\n",
       "  <tbody>\n",
       "    <tr>\n",
       "      <th>Amount</th>\n",
       "      <td>1.000000</td>\n",
       "      <td>0.128913</td>\n",
       "      <td>-0.020222</td>\n",
       "      <td>0.038298</td>\n",
       "      <td>0.021575</td>\n",
       "      <td>0.004987</td>\n",
       "      <td>0.055740</td>\n",
       "      <td>0.003503</td>\n",
       "      <td>-0.023363</td>\n",
       "      <td>-0.002497</td>\n",
       "      <td>0.000878</td>\n",
       "      <td>-0.001613</td>\n",
       "      <td>-0.030723</td>\n",
       "      <td>0.019990</td>\n",
       "      <td>NaN</td>\n",
       "    </tr>\n",
       "    <tr>\n",
       "      <th>Previous Transactions</th>\n",
       "      <td>0.128913</td>\n",
       "      <td>1.000000</td>\n",
       "      <td>-0.058083</td>\n",
       "      <td>-0.055533</td>\n",
       "      <td>0.018358</td>\n",
       "      <td>-0.011379</td>\n",
       "      <td>-0.000367</td>\n",
       "      <td>0.054903</td>\n",
       "      <td>-0.002971</td>\n",
       "      <td>0.008733</td>\n",
       "      <td>0.066043</td>\n",
       "      <td>-0.034964</td>\n",
       "      <td>-0.071273</td>\n",
       "      <td>-0.055843</td>\n",
       "      <td>NaN</td>\n",
       "    </tr>\n",
       "    <tr>\n",
       "      <th>Balance Before Transaction</th>\n",
       "      <td>-0.020222</td>\n",
       "      <td>-0.058083</td>\n",
       "      <td>1.000000</td>\n",
       "      <td>0.000551</td>\n",
       "      <td>-0.000240</td>\n",
       "      <td>0.028377</td>\n",
       "      <td>-0.083949</td>\n",
       "      <td>-0.023871</td>\n",
       "      <td>0.022750</td>\n",
       "      <td>-0.010995</td>\n",
       "      <td>0.012455</td>\n",
       "      <td>-0.025076</td>\n",
       "      <td>0.074709</td>\n",
       "      <td>-0.037429</td>\n",
       "      <td>NaN</td>\n",
       "    </tr>\n",
       "    <tr>\n",
       "      <th>Time of Day</th>\n",
       "      <td>0.038298</td>\n",
       "      <td>-0.055533</td>\n",
       "      <td>0.000551</td>\n",
       "      <td>1.000000</td>\n",
       "      <td>-0.062860</td>\n",
       "      <td>0.009492</td>\n",
       "      <td>0.011470</td>\n",
       "      <td>-0.016796</td>\n",
       "      <td>0.026052</td>\n",
       "      <td>-0.010246</td>\n",
       "      <td>-0.032384</td>\n",
       "      <td>-0.015371</td>\n",
       "      <td>0.058007</td>\n",
       "      <td>-0.024174</td>\n",
       "      <td>NaN</td>\n",
       "    </tr>\n",
       "    <tr>\n",
       "      <th>Velocity</th>\n",
       "      <td>0.021575</td>\n",
       "      <td>0.018358</td>\n",
       "      <td>-0.000240</td>\n",
       "      <td>-0.062860</td>\n",
       "      <td>1.000000</td>\n",
       "      <td>-0.010379</td>\n",
       "      <td>-0.030199</td>\n",
       "      <td>0.001173</td>\n",
       "      <td>0.024599</td>\n",
       "      <td>0.033401</td>\n",
       "      <td>0.017416</td>\n",
       "      <td>0.012391</td>\n",
       "      <td>-0.032915</td>\n",
       "      <td>-0.060015</td>\n",
       "      <td>NaN</td>\n",
       "    </tr>\n",
       "    <tr>\n",
       "      <th>Customer Age</th>\n",
       "      <td>0.004987</td>\n",
       "      <td>-0.011379</td>\n",
       "      <td>0.028377</td>\n",
       "      <td>0.009492</td>\n",
       "      <td>-0.010379</td>\n",
       "      <td>1.000000</td>\n",
       "      <td>0.050561</td>\n",
       "      <td>0.014919</td>\n",
       "      <td>0.039458</td>\n",
       "      <td>-0.059213</td>\n",
       "      <td>0.024592</td>\n",
       "      <td>-0.016205</td>\n",
       "      <td>0.017345</td>\n",
       "      <td>0.013752</td>\n",
       "      <td>NaN</td>\n",
       "    </tr>\n",
       "    <tr>\n",
       "      <th>Customer Income</th>\n",
       "      <td>0.055740</td>\n",
       "      <td>-0.000367</td>\n",
       "      <td>-0.083949</td>\n",
       "      <td>0.011470</td>\n",
       "      <td>-0.030199</td>\n",
       "      <td>0.050561</td>\n",
       "      <td>1.000000</td>\n",
       "      <td>0.013309</td>\n",
       "      <td>-0.004156</td>\n",
       "      <td>0.007206</td>\n",
       "      <td>0.073233</td>\n",
       "      <td>0.019926</td>\n",
       "      <td>-0.006444</td>\n",
       "      <td>-0.021208</td>\n",
       "      <td>NaN</td>\n",
       "    </tr>\n",
       "    <tr>\n",
       "      <th>Card Limit</th>\n",
       "      <td>0.003503</td>\n",
       "      <td>0.054903</td>\n",
       "      <td>-0.023871</td>\n",
       "      <td>-0.016796</td>\n",
       "      <td>0.001173</td>\n",
       "      <td>0.014919</td>\n",
       "      <td>0.013309</td>\n",
       "      <td>1.000000</td>\n",
       "      <td>0.010426</td>\n",
       "      <td>-0.050423</td>\n",
       "      <td>0.000829</td>\n",
       "      <td>0.022873</td>\n",
       "      <td>0.048987</td>\n",
       "      <td>-0.072834</td>\n",
       "      <td>NaN</td>\n",
       "    </tr>\n",
       "    <tr>\n",
       "      <th>Credit Score</th>\n",
       "      <td>-0.023363</td>\n",
       "      <td>-0.002971</td>\n",
       "      <td>0.022750</td>\n",
       "      <td>0.026052</td>\n",
       "      <td>0.024599</td>\n",
       "      <td>0.039458</td>\n",
       "      <td>-0.004156</td>\n",
       "      <td>0.010426</td>\n",
       "      <td>1.000000</td>\n",
       "      <td>-0.050018</td>\n",
       "      <td>0.029999</td>\n",
       "      <td>0.029373</td>\n",
       "      <td>0.013380</td>\n",
       "      <td>0.044842</td>\n",
       "      <td>NaN</td>\n",
       "    </tr>\n",
       "    <tr>\n",
       "      <th>Merchant Location History</th>\n",
       "      <td>-0.002497</td>\n",
       "      <td>0.008733</td>\n",
       "      <td>-0.010995</td>\n",
       "      <td>-0.010246</td>\n",
       "      <td>0.033401</td>\n",
       "      <td>-0.059213</td>\n",
       "      <td>0.007206</td>\n",
       "      <td>-0.050423</td>\n",
       "      <td>-0.050018</td>\n",
       "      <td>1.000000</td>\n",
       "      <td>0.036440</td>\n",
       "      <td>0.029830</td>\n",
       "      <td>-0.030571</td>\n",
       "      <td>-0.009381</td>\n",
       "      <td>NaN</td>\n",
       "    </tr>\n",
       "    <tr>\n",
       "      <th>Spending Patterns</th>\n",
       "      <td>0.000878</td>\n",
       "      <td>0.066043</td>\n",
       "      <td>0.012455</td>\n",
       "      <td>-0.032384</td>\n",
       "      <td>0.017416</td>\n",
       "      <td>0.024592</td>\n",
       "      <td>0.073233</td>\n",
       "      <td>0.000829</td>\n",
       "      <td>0.029999</td>\n",
       "      <td>0.036440</td>\n",
       "      <td>1.000000</td>\n",
       "      <td>0.024766</td>\n",
       "      <td>-0.026258</td>\n",
       "      <td>0.022644</td>\n",
       "      <td>NaN</td>\n",
       "    </tr>\n",
       "    <tr>\n",
       "      <th>Is Fraudulent</th>\n",
       "      <td>-0.001613</td>\n",
       "      <td>-0.034964</td>\n",
       "      <td>-0.025076</td>\n",
       "      <td>-0.015371</td>\n",
       "      <td>0.012391</td>\n",
       "      <td>-0.016205</td>\n",
       "      <td>0.019926</td>\n",
       "      <td>0.022873</td>\n",
       "      <td>0.029373</td>\n",
       "      <td>0.029830</td>\n",
       "      <td>0.024766</td>\n",
       "      <td>1.000000</td>\n",
       "      <td>-0.017909</td>\n",
       "      <td>-0.013153</td>\n",
       "      <td>NaN</td>\n",
       "    </tr>\n",
       "    <tr>\n",
       "      <th>Day</th>\n",
       "      <td>-0.030723</td>\n",
       "      <td>-0.071273</td>\n",
       "      <td>0.074709</td>\n",
       "      <td>0.058007</td>\n",
       "      <td>-0.032915</td>\n",
       "      <td>0.017345</td>\n",
       "      <td>-0.006444</td>\n",
       "      <td>0.048987</td>\n",
       "      <td>0.013380</td>\n",
       "      <td>-0.030571</td>\n",
       "      <td>-0.026258</td>\n",
       "      <td>-0.017909</td>\n",
       "      <td>1.000000</td>\n",
       "      <td>-0.019743</td>\n",
       "      <td>NaN</td>\n",
       "    </tr>\n",
       "    <tr>\n",
       "      <th>Month</th>\n",
       "      <td>0.019990</td>\n",
       "      <td>-0.055843</td>\n",
       "      <td>-0.037429</td>\n",
       "      <td>-0.024174</td>\n",
       "      <td>-0.060015</td>\n",
       "      <td>0.013752</td>\n",
       "      <td>-0.021208</td>\n",
       "      <td>-0.072834</td>\n",
       "      <td>0.044842</td>\n",
       "      <td>-0.009381</td>\n",
       "      <td>0.022644</td>\n",
       "      <td>-0.013153</td>\n",
       "      <td>-0.019743</td>\n",
       "      <td>1.000000</td>\n",
       "      <td>NaN</td>\n",
       "    </tr>\n",
       "    <tr>\n",
       "      <th>Year</th>\n",
       "      <td>NaN</td>\n",
       "      <td>NaN</td>\n",
       "      <td>NaN</td>\n",
       "      <td>NaN</td>\n",
       "      <td>NaN</td>\n",
       "      <td>NaN</td>\n",
       "      <td>NaN</td>\n",
       "      <td>NaN</td>\n",
       "      <td>NaN</td>\n",
       "      <td>NaN</td>\n",
       "      <td>NaN</td>\n",
       "      <td>NaN</td>\n",
       "      <td>NaN</td>\n",
       "      <td>NaN</td>\n",
       "      <td>NaN</td>\n",
       "    </tr>\n",
       "  </tbody>\n",
       "</table>\n",
       "</div>"
      ],
      "text/plain": [
       "                              Amount  Previous Transactions  \\\n",
       "Amount                      1.000000               0.128913   \n",
       "Previous Transactions       0.128913               1.000000   \n",
       "Balance Before Transaction -0.020222              -0.058083   \n",
       "Time of Day                 0.038298              -0.055533   \n",
       "Velocity                    0.021575               0.018358   \n",
       "Customer Age                0.004987              -0.011379   \n",
       "Customer Income             0.055740              -0.000367   \n",
       "Card Limit                  0.003503               0.054903   \n",
       "Credit Score               -0.023363              -0.002971   \n",
       "Merchant Location History  -0.002497               0.008733   \n",
       "Spending Patterns           0.000878               0.066043   \n",
       "Is Fraudulent              -0.001613              -0.034964   \n",
       "Day                        -0.030723              -0.071273   \n",
       "Month                       0.019990              -0.055843   \n",
       "Year                             NaN                    NaN   \n",
       "\n",
       "                            Balance Before Transaction  Time of Day  Velocity  \\\n",
       "Amount                                       -0.020222     0.038298  0.021575   \n",
       "Previous Transactions                        -0.058083    -0.055533  0.018358   \n",
       "Balance Before Transaction                    1.000000     0.000551 -0.000240   \n",
       "Time of Day                                   0.000551     1.000000 -0.062860   \n",
       "Velocity                                     -0.000240    -0.062860  1.000000   \n",
       "Customer Age                                  0.028377     0.009492 -0.010379   \n",
       "Customer Income                              -0.083949     0.011470 -0.030199   \n",
       "Card Limit                                   -0.023871    -0.016796  0.001173   \n",
       "Credit Score                                  0.022750     0.026052  0.024599   \n",
       "Merchant Location History                    -0.010995    -0.010246  0.033401   \n",
       "Spending Patterns                             0.012455    -0.032384  0.017416   \n",
       "Is Fraudulent                                -0.025076    -0.015371  0.012391   \n",
       "Day                                           0.074709     0.058007 -0.032915   \n",
       "Month                                        -0.037429    -0.024174 -0.060015   \n",
       "Year                                               NaN          NaN       NaN   \n",
       "\n",
       "                            Customer Age  Customer Income  Card Limit  \\\n",
       "Amount                          0.004987         0.055740    0.003503   \n",
       "Previous Transactions          -0.011379        -0.000367    0.054903   \n",
       "Balance Before Transaction      0.028377        -0.083949   -0.023871   \n",
       "Time of Day                     0.009492         0.011470   -0.016796   \n",
       "Velocity                       -0.010379        -0.030199    0.001173   \n",
       "Customer Age                    1.000000         0.050561    0.014919   \n",
       "Customer Income                 0.050561         1.000000    0.013309   \n",
       "Card Limit                      0.014919         0.013309    1.000000   \n",
       "Credit Score                    0.039458        -0.004156    0.010426   \n",
       "Merchant Location History      -0.059213         0.007206   -0.050423   \n",
       "Spending Patterns               0.024592         0.073233    0.000829   \n",
       "Is Fraudulent                  -0.016205         0.019926    0.022873   \n",
       "Day                             0.017345        -0.006444    0.048987   \n",
       "Month                           0.013752        -0.021208   -0.072834   \n",
       "Year                                 NaN              NaN         NaN   \n",
       "\n",
       "                            Credit Score  Merchant Location History  \\\n",
       "Amount                         -0.023363                  -0.002497   \n",
       "Previous Transactions          -0.002971                   0.008733   \n",
       "Balance Before Transaction      0.022750                  -0.010995   \n",
       "Time of Day                     0.026052                  -0.010246   \n",
       "Velocity                        0.024599                   0.033401   \n",
       "Customer Age                    0.039458                  -0.059213   \n",
       "Customer Income                -0.004156                   0.007206   \n",
       "Card Limit                      0.010426                  -0.050423   \n",
       "Credit Score                    1.000000                  -0.050018   \n",
       "Merchant Location History      -0.050018                   1.000000   \n",
       "Spending Patterns               0.029999                   0.036440   \n",
       "Is Fraudulent                   0.029373                   0.029830   \n",
       "Day                             0.013380                  -0.030571   \n",
       "Month                           0.044842                  -0.009381   \n",
       "Year                                 NaN                        NaN   \n",
       "\n",
       "                            Spending Patterns  Is Fraudulent       Day  \\\n",
       "Amount                               0.000878      -0.001613 -0.030723   \n",
       "Previous Transactions                0.066043      -0.034964 -0.071273   \n",
       "Balance Before Transaction           0.012455      -0.025076  0.074709   \n",
       "Time of Day                         -0.032384      -0.015371  0.058007   \n",
       "Velocity                             0.017416       0.012391 -0.032915   \n",
       "Customer Age                         0.024592      -0.016205  0.017345   \n",
       "Customer Income                      0.073233       0.019926 -0.006444   \n",
       "Card Limit                           0.000829       0.022873  0.048987   \n",
       "Credit Score                         0.029999       0.029373  0.013380   \n",
       "Merchant Location History            0.036440       0.029830 -0.030571   \n",
       "Spending Patterns                    1.000000       0.024766 -0.026258   \n",
       "Is Fraudulent                        0.024766       1.000000 -0.017909   \n",
       "Day                                 -0.026258      -0.017909  1.000000   \n",
       "Month                                0.022644      -0.013153 -0.019743   \n",
       "Year                                      NaN            NaN       NaN   \n",
       "\n",
       "                               Month  Year  \n",
       "Amount                      0.019990   NaN  \n",
       "Previous Transactions      -0.055843   NaN  \n",
       "Balance Before Transaction -0.037429   NaN  \n",
       "Time of Day                -0.024174   NaN  \n",
       "Velocity                   -0.060015   NaN  \n",
       "Customer Age                0.013752   NaN  \n",
       "Customer Income            -0.021208   NaN  \n",
       "Card Limit                 -0.072834   NaN  \n",
       "Credit Score                0.044842   NaN  \n",
       "Merchant Location History  -0.009381   NaN  \n",
       "Spending Patterns           0.022644   NaN  \n",
       "Is Fraudulent              -0.013153   NaN  \n",
       "Day                        -0.019743   NaN  \n",
       "Month                       1.000000   NaN  \n",
       "Year                             NaN   NaN  "
      ]
     },
     "execution_count": 25,
     "metadata": {},
     "output_type": "execute_result"
    }
   ],
   "source": [
    "correlation_matrix = df[num_var].corr()\n",
    "correlation_matrix"
   ]
  },
  {
   "cell_type": "code",
   "execution_count": 26,
   "metadata": {},
   "outputs": [
    {
     "data": {
      "image/png": "[encoded data removed]",
      "text/plain": [
       "<Figure size 1200x800 with 2 Axes>"
      ]
     },
     "metadata": {},
     "output_type": "display_data"
    }
   ],
   "source": [
    "# Assuming 'df' is your DataFrame after necessary preprocessing but before applying any scaling or SMOTE\n",
    "\n",
    "# Compute the Pearson correlation matrix\n",
    "correlation_matrix = df[num_var].corr()\n",
    "\n",
    "# Display the correlation matrix\n",
    "correlation_matrix\n",
    "\n",
    "\n",
    "# Assuming 'correlation_matrix' is computed as shown above\n",
    "\n",
    "# Set up the matplotlib figure\n",
    "plt.figure(figsize=(12, 8))\n",
    "\n",
    "# Draw the heatmap with the mask and correct aspect ratio\n",
    "sns.heatmap(correlation_matrix, annot=True, fmt=\".2f\", cmap='coolwarm', square=True, linewidths=.5, cbar_kws={\"shrink\": .5})\n",
    "\n",
    "# Add title\n",
    "plt.title('Feature Correlation Heatmap')\n",
    "\n",
    "plt.show()\n"
   ]
  },
  {
   "cell_type": "markdown",
   "metadata": {},
   "source": [
    "Justification: Correlational analysis is crucial in understanding the relationships between different features in your dataset. \n",
    "High correlations between features can indicate redundancy or multicollinearity. In the context of feature selection, \n",
    "it's generally desirable to include features that provide unique information and are not highly correlated with each other. \n",
    "Here's how correlational analysis can influence feature selection: Redundancy Identification: Features with high positive or \n",
    "negative correlations may provide similar information. In feature selection, you might consider keeping one of the correlated features \n",
    "and dropping the other to reduce redundancy. Multicollinearity Handling: \n",
    "If there is strong correlation between two or more features, it might lead to multicollinearity issues in certain models. \n",
    "Feature selection can involve choosing one feature over the others to mitigate this problem. \n",
    "Impact on Model Performance: Highly correlated features may not necessarily contribute significantly to the model's predictive power. \n",
    "Selecting features with lower inter-correlation can lead to a more interpretable and efficient model. \n",
    "In summary, correlational analysis helps identify relationships between features, and it can guide feature selection by prioritizing features that provide unique information.\n",
    "\n",
    "This part correctly calculates the Pearson correlation coefficients between all pairs of numerical columns in the DataFrame df. It then prints the resulting correlation matrix. The Pearson correlation coefficient measures the linear correlation between variables, with a value ranging from -1 to 1, where:\n",
    "\n",
    "1 indicates a perfect positive linear relationship,\n",
    "-1 indicates a perfect negative linear relationship, and\n",
    "0 indicates no linear relationship."
   ]
  },
  {
   "cell_type": "markdown",
   "metadata": {},
   "source": [
    "# <b>3. Data Pre-processing and cleaning</b>"
   ]
  },
  {
   "cell_type": "code",
   "execution_count": 27,
   "metadata": {},
   "outputs": [
    {
     "name": "stdout",
     "output_type": "stream",
     "text": [
      "No missing values found in the dataset.\n"
     ]
    }
   ],
   "source": [
    "# Handling Missing Values\n",
    "missing_values = df.isnull().sum()\n",
    "missing_values_summary = missing_values[missing_values > 0]\n",
    "\n",
    "if not missing_values_summary.empty:\n",
    "    print(\"Missing values summary:\\n\", missing_values_summary)\n",
    "else:\n",
    "    print(\"No missing values found in the dataset.\")\n"
   ]
  },
  {
   "cell_type": "code",
   "execution_count": 28,
   "metadata": {},
   "outputs": [
    {
     "name": "stdout",
     "output_type": "stream",
     "text": [
      "<class 'pandas.core.frame.DataFrame'>\n",
      "RangeIndex: 1000 entries, 0 to 999\n",
      "Data columns (total 21 columns):\n",
      " #   Column                         Non-Null Count  Dtype  \n",
      "---  ------                         --------------  -----  \n",
      " 0   Amount                         1000 non-null   float64\n",
      " 1   Card Type                      1000 non-null   object \n",
      " 2   MCC Category                   1000 non-null   object \n",
      " 3   Location                       1000 non-null   object \n",
      " 4   Device                         1000 non-null   object \n",
      " 5   Previous Transactions          1000 non-null   int64  \n",
      " 6   Balance Before Transaction     1000 non-null   float64\n",
      " 7   Time of Day                    1000 non-null   int64  \n",
      " 8   Velocity                       1000 non-null   float64\n",
      " 9   Customer Age                   1000 non-null   int64  \n",
      " 10  Customer Income                1000 non-null   float64\n",
      " 11  Card Limit                     1000 non-null   float64\n",
      " 12  Credit Score                   1000 non-null   int64  \n",
      " 13  Merchant Reputation            1000 non-null   object \n",
      " 14  Merchant Location History      1000 non-null   int64  \n",
      " 15  Spending Patterns              1000 non-null   float64\n",
      " 16  Online Transactions Frequency  1000 non-null   object \n",
      " 17  Is Fraudulent                  1000 non-null   int64  \n",
      " 18  Day                            1000 non-null   int32  \n",
      " 19  Month                          1000 non-null   int32  \n",
      " 20  Year                           1000 non-null   int32  \n",
      "dtypes: float64(6), int32(3), int64(6), object(6)\n",
      "memory usage: 152.5+ KB\n"
     ]
    }
   ],
   "source": [
    "df.info()"
   ]
  },
  {
   "cell_type": "code",
   "execution_count": 29,
   "metadata": {},
   "outputs": [
    {
     "name": "stdout",
     "output_type": "stream",
     "text": [
      "Skewness:\n",
      "Amount                       -0.117665\n",
      "Previous Transactions         0.026361\n",
      "Balance Before Transaction    0.079183\n",
      "Time of Day                  -0.008229\n",
      "Velocity                     -0.006681\n",
      "Customer Age                  0.017007\n",
      "Customer Income               0.073928\n",
      "Card Limit                   -0.050666\n",
      "Credit Score                 -0.040776\n",
      "Merchant Location History     0.042392\n",
      "Spending Patterns            -0.031202\n",
      "Is Fraudulent                 3.996472\n",
      "dtype: float64\n"
     ]
    }
   ],
   "source": [
    "# Calculate skewness for numerical columns\n",
    "skewness = df.select_dtypes(include=['float64', 'int64']).apply(lambda x: x.skew())\n",
    "\n",
    "# Display skewness values\n",
    "print(\"Skewness:\")\n",
    "print(skewness)"
   ]
  },
  {
   "cell_type": "code",
   "execution_count": 30,
   "metadata": {},
   "outputs": [
    {
     "name": "stdout",
     "output_type": "stream",
     "text": [
      "Skewed features: ['Is Fraudulent']\n"
     ]
    }
   ],
   "source": [
    "import numpy as np\n",
    "\n",
    "numerical_features = df.select_dtypes(include=['float64', 'int64']).columns\n",
    "skewed_features = df[numerical_features].apply(lambda x: x.skew()).sort_values(ascending=False)\n",
    "\n",
    "# Filter skewed features based on a threshold (e.g., 0.5)\n",
    "skew_threshold = 0.5\n",
    "skewed_features = skewed_features[abs(skewed_features) > skew_threshold]\n",
    "print(f\"Skewed features: {skewed_features.index.tolist()}\")"
   ]
  },
  {
   "cell_type": "code",
   "execution_count": 31,
   "metadata": {},
   "outputs": [],
   "source": [
    "# Apply log transformation to skewed features\n",
    "# We will not apply log transformation to target variables so skipping this code here.\n",
    "# for feature in skewed_features.index:\n",
    "    # Ensure no zero or negative values before applying log transformation\n",
    "    # df[feature] = np.log1p(df[feature])"
   ]
  },
  {
   "cell_type": "code",
   "execution_count": 32,
   "metadata": {},
   "outputs": [
    {
     "name": "stdout",
     "output_type": "stream",
     "text": [
      "Column Is Fraudulent has 53 outliers.\n"
     ]
    }
   ],
   "source": [
    "# Check outliers\n",
    "def detect_outliers(df):\n",
    "    outlier_dict = {}\n",
    "    for col in df.select_dtypes(include=['float64', 'int64']).columns:\n",
    "        Q1 = df[col].quantile(0.25)\n",
    "        Q3 = df[col].quantile(0.75)\n",
    "        IQR = Q3 - Q1\n",
    "        outliers = df[(df[col] < (Q1 - 1.5 * IQR)) | (df[col] > (Q3 + 1.5 * IQR))]\n",
    "        if not outliers.empty:\n",
    "            outlier_dict[col] = len(outliers)\n",
    "    return outlier_dict\n",
    "\n",
    "outliers_detected = detect_outliers(df)\n",
    "if outliers_detected:\n",
    "    for col, count in outliers_detected.items():\n",
    "        print(f\"Column {col} has {count} outliers.\")\n",
    "else:\n",
    "    print(\"No outliers detected.\")"
   ]
  },
  {
   "cell_type": "markdown",
   "metadata": {},
   "source": [
    "There are no missing values in the data.\n",
    "\n",
    "Outliers are not detected in Independent variables(Features). In Target Variable we have 53 Outliers.\n",
    "\n",
    "We have measured the data skewness as well and all data skewness are less than the threshold range(0.5) except Target Column 'Is Fraudelent'. \n",
    "\n",
    "Log transformation is effective in handling positively skewed data by compressing the range of extreme values. This helps in making the distribution more symmetric and aligning with the assumptions of some machine learning models that assume normality. Application in Data: Applied log transformation to features with positive skewness, such as Amount, Previous Transactions, and Is Fraudulent. Assessment of Impact on Model Performance:\n",
    "\n",
    "The primary goal is to improve the model's predictive capabilities.\n",
    "\n",
    "Data preprocessing is an iterative process. If initial transformations do not yield desirable results, there is flexibility to experiment with alternative techniques or revert changes. Application in Data: Encouraged experimentation by comparing models with different preprocessing approaches."
   ]
  },
  {
   "cell_type": "code",
   "execution_count": 33,
   "metadata": {},
   "outputs": [
    {
     "name": "stdout",
     "output_type": "stream",
     "text": [
      "Number of outliers in Amount: 0\n",
      "Number of outliers in Previous Transactions: 0\n",
      "Number of outliers in Balance Before Transaction: 0\n",
      "Number of outliers in Time of Day: 0\n",
      "Number of outliers in Velocity: 0\n",
      "Number of outliers in Customer Age: 0\n",
      "Number of outliers in Customer Income: 0\n",
      "Number of outliers in Card Limit: 0\n",
      "Number of outliers in Credit Score: 0\n",
      "Number of outliers in Merchant Location History: 0\n",
      "Number of outliers in Spending Patterns: 0\n",
      "Number of outliers in Is Fraudulent: 53\n",
      "Number of outliers in Day: 0\n",
      "Number of outliers in Month: 0\n",
      "Number of outliers in Year: 0\n"
     ]
    }
   ],
   "source": [
    "from scipy.stats import zscore\n",
    "\n",
    "# Calculate the Z-scores for numerical columns\n",
    "z_scores = zscore(df.select_dtypes(include=['float64', 'int64','int32']))\n",
    "\n",
    "# Identify and remove outliers based on a threshold (e.g., Z-score > 3)\n",
    "# Identify outliers using a threshold (e.g., z-score > 3 or < -3)\n",
    "outlier_mask = (z_scores > 3) | (z_scores < -3)\n",
    "\n",
    "# Count the number of outliers in each column\n",
    "outlier_counts = outlier_mask.sum(axis=0)\n",
    "\n",
    "# Display the number of outliers for each column\n",
    "for col, count in zip(num_var, outlier_counts):\n",
    "    print(f\"Number of outliers in {col}: {count}\")"
   ]
  },
  {
   "cell_type": "code",
   "execution_count": 34,
   "metadata": {},
   "outputs": [],
   "source": [
    "# Apply Label Encoding for simplicity in this example\n",
    "# For One-Hot Encoding, you would use: df = pd.get_dummies(df)\n",
    "LR_df_1 = df.copy()\n",
    "categorical_columns = ['Card Type','MCC Category','Location','Device','Merchant Reputation','Online Transactions Frequency']\n",
    "le = {}\n",
    "for column in categorical_columns:\n",
    "    le[column] = LabelEncoder()\n",
    "\n",
    "# fit and transform the categorical data\n",
    "for column in categorical_columns:\n",
    "    LR_df_1[column] = le[column].fit_transform(LR_df_1[column])"
   ]
  },
  {
   "cell_type": "markdown",
   "metadata": {},
   "source": [
    "Label Encoding converts categorical text data into a model-understandable numerical format. \n",
    "It assigns a unique integer to each category. Here we are using it for our categorical columns"
   ]
  },
  {
   "cell_type": "code",
   "execution_count": 35,
   "metadata": {},
   "outputs": [],
   "source": [
    "# Feature Scaling\n",
    "scaler = MinMaxScaler()\n",
    "X =  LR_df_1.drop('Is Fraudulent', axis=1)  # Adjust target variable name as necessary\n",
    "y =  LR_df_1['Is Fraudulent']  # Adjust target variable name as necessary\n",
    "X_scaled = scaler.fit_transform(X)"
   ]
  },
  {
   "cell_type": "markdown",
   "metadata": {},
   "source": [
    "Feature Scaling normalizes or standardizes the range of feature values. \n",
    "There are two common methods: Normalization (scaling features to a range) \n",
    "and Standardization (shifting the distribution of each feature to have a mean of zero and a standard deviation of one).\n",
    "\n",
    "Normalization (Min-Max Scaling):\n",
    "This scales and shifts the data such that the values range between 0 and 1."
   ]
  },
  {
   "cell_type": "markdown",
   "metadata": {},
   "source": [
    "# <b>4. Model Building & Performance Evaluation</b>"
   ]
  },
  {
   "cell_type": "markdown",
   "metadata": {},
   "source": [
    "<b> Logistic regression without hyper parameter tuning </b>"
   ]
  },
  {
   "cell_type": "code",
   "execution_count": 36,
   "metadata": {},
   "outputs": [
    {
     "name": "stdout",
     "output_type": "stream",
     "text": [
      "Classification Report:\n",
      "              precision    recall  f1-score   support\n",
      "\n",
      "           0       0.62      0.61      0.62       190\n",
      "           1       0.62      0.63      0.62       189\n",
      "\n",
      "    accuracy                           0.62       379\n",
      "   macro avg       0.62      0.62      0.62       379\n",
      "weighted avg       0.62      0.62      0.62       379\n",
      "\n",
      "Confusion Matrix:\n",
      "[[116  74]\n",
      " [ 70 119]]\n"
     ]
    }
   ],
   "source": [
    "# Here we are executing the model without feature selection and without hyper parameter tuning\n",
    "from imblearn.over_sampling import SMOTE\n",
    "from sklearn.model_selection import train_test_split\n",
    "from sklearn.linear_model import LogisticRegression\n",
    "from sklearn.metrics import classification_report, confusion_matrix\n",
    "from sklearn.preprocessing import StandardScaler\n",
    "\n",
    "# Assuming X_scaled and y are already defined\n",
    "smote = SMOTE(random_state=42)\n",
    "X_sm, y_sm = smote.fit_resample(X_scaled, y)\n",
    "\n",
    "# Splitting the SMOTE-balanced dataset into training and test sets\n",
    "X_train_sm, X_test_sm, y_train_sm, y_test_sm = train_test_split(X_sm, y_sm, test_size=0.2, random_state=42)\n",
    "\n",
    "# Fitting the Logistic Regression model on the balanced dataset\n",
    "log_reg_model_sm = LogisticRegression(max_iter=1000)\n",
    "log_reg_model_sm.fit(X_train_sm, y_train_sm)\n",
    "\n",
    "# Predicting on the test set and evaluating the model\n",
    "y_pred_sm = log_reg_model_sm.predict(X_test_sm)\n",
    "print(\"Classification Report:\")\n",
    "print(classification_report(y_test_sm, y_pred_sm))\n",
    "print(\"Confusion Matrix:\")\n",
    "print(confusion_matrix(y_test_sm, y_pred_sm))\n"
   ]
  },
  {
   "cell_type": "markdown",
   "metadata": {},
   "source": [
    "Based on the classification report , logistic regression model achieved an accuracy of 62% on the dataset with all features. Here's a breakdown of the results:\n",
    "\n",
    "Precision: The model has a precision of approximately 62% for class 0 (non-fraudulent transactions) and 61% for class 1 (fraudulent transactions). Precision is the ratio of true positive predictions to the total positive predictions (including both true positives and false positives). This indicates that the model is slightly better at correctly predicting non-fraudulent transactions than fraudulent ones without being incorrect too often.\n",
    "\n",
    "Recall: The model's recall is roughly 61% for class 0 and 62% for class 1. Recall, or sensitivity, measures the proportion of actual positives that are correctly identified. This suggests the model is slightly more effective at identifying fraudulent transactions than non-fraudulent ones from the actual positive cases.\n",
    "\n",
    "F1-Score: The F1-score, which is a harmonic mean of precision and recall, stands at about 61% for both classes. This score takes both false positives and false negatives into account and is a better measure of the incorrectly classified cases than the accuracy metric alone.\n",
    "\n",
    "Accuracy: Overall, the model correctly predicts the outcome of transactions 61% of the time, considering both fraudulent and non-fraudulent transactions.\n",
    "\n",
    "The results indicate a relatively balanced performance between the two classes, which is good, especially if you have balanced the dataset before model training (e.g., using SMOTE or another technique). However, there's room for improvement, especially in a domain as critical as financial transaction analysis, where higher precision and recall are desirable to minimize the risk of fraudulent transactions going undetected and legitimate transactions being falsely flagged as fraudulent."
   ]
  },
  {
   "cell_type": "markdown",
   "metadata": {},
   "source": [
    "<b>Let's implement feature selection and Hyperparameter tuning into LR Model and See the results</b>"
   ]
  },
  {
   "cell_type": "code",
   "execution_count": 37,
   "metadata": {},
   "outputs": [
    {
     "name": "stdout",
     "output_type": "stream",
     "text": [
      "Classification Report:\n",
      "               precision    recall  f1-score   support\n",
      "\n",
      "           0       0.64      0.56      0.60       190\n",
      "           1       0.61      0.68      0.64       189\n",
      "\n",
      "    accuracy                           0.62       379\n",
      "   macro avg       0.62      0.62      0.62       379\n",
      "weighted avg       0.62      0.62      0.62       379\n",
      "\n",
      "Confusion Matrix:\n",
      " [[107  83]\n",
      " [ 60 129]]\n"
     ]
    }
   ],
   "source": [
    "# Import necessary libraries\n",
    "import pandas as pd\n",
    "import numpy as np\n",
    "from sklearn.model_selection import train_test_split\n",
    "from sklearn.preprocessing import StandardScaler, LabelEncoder, MinMaxScaler\n",
    "from sklearn.linear_model import LogisticRegression\n",
    "from sklearn.metrics import classification_report, confusion_matrix\n",
    "from sklearn.feature_selection import SelectKBest, mutual_info_classif\n",
    "from sklearn.model_selection import GridSearchCV\n",
    "from imblearn.over_sampling import SMOTE\n",
    "\n",
    "# Load the dataset\n",
    "df = pd.read_csv('Assignment_1_Set1.csv')\n",
    "\n",
    "# Preprocess the dataset\n",
    "\n",
    "## Handle missing values\n",
    "# for col in df.columns:\n",
    "#     if df[col].dtype == \"object\":\n",
    "#         df[col] = df[col].fillna(df[col].mode()[0])\n",
    "#     else:\n",
    "#         df[col] = df[col].fillna(df[col].median())\n",
    "\n",
    "## Encode categorical variables (excluding the target variable if it's categorical)\n",
    "target_variable = 'Is Fraudulent'  # Adjust the target variable name as necessary\n",
    "features = df.loc[:, df.columns != target_variable]\n",
    "le = LabelEncoder()\n",
    "for col in features.select_dtypes(include=['object']).columns:\n",
    "    df[col] = le.fit_transform(df[col])\n",
    "\n",
    "## Address skewness in numerical features (excluding target variable)\n",
    "numerical_features = df.select_dtypes(include=['int64', 'float64']).columns.drop(target_variable)\n",
    "for feature in numerical_features:\n",
    "    if df[feature].skew() > 0.75:\n",
    "        df[feature] = np.log1p(df[feature])\n",
    "\n",
    "## Feature Scaling\n",
    "scaler = StandardScaler()\n",
    "X = df.drop(target_variable, axis=1)\n",
    "y = df[target_variable]\n",
    "X_scaled = scaler.fit_transform(X)\n",
    "\n",
    "## Handling class imbalance with SMOTE\n",
    "smote = SMOTE(random_state=42)\n",
    "X_sm, y_sm = smote.fit_resample(X_scaled, y)\n",
    "\n",
    "## Splitting the dataset\n",
    "X_train, X_test, y_train, y_test = train_test_split(X_sm, y_sm, test_size=0.2, random_state=42)\n",
    "\n",
    "# Feature Selection\n",
    "selector = SelectKBest(score_func=mutual_info_classif, k='all')  # Adjust k as needed\n",
    "X_train_selected = selector.fit_transform(X_train, y_train)\n",
    "X_test_selected = selector.transform(X_test)\n",
    "\n",
    "# Hyperparameter Tuning for Logistic Regression\n",
    "param_grid = {\n",
    "    'C': np.logspace(-4, 4, 20),\n",
    "    'penalty': ['l1', 'l2']\n",
    "}\n",
    "log_reg = LogisticRegression(solver='liblinear')  # liblinear supports l1 and l2 penalties\n",
    "grid_search = GridSearchCV(log_reg, param_grid, cv=5, scoring='accuracy')\n",
    "grid_search.fit(X_train_selected, y_train)\n",
    "\n",
    "# Train the Logistic Regression model with the best parameters\n",
    "best_params = grid_search.best_params_\n",
    "log_reg_best = LogisticRegression(**best_params, solver='liblinear')\n",
    "log_reg_best.fit(X_train_selected, y_train)\n",
    "\n",
    "# Evaluate the model\n",
    "y_pred = log_reg_best.predict(X_test_selected)\n",
    "print(\"Classification Report:\\n\", classification_report(y_test, y_pred))\n",
    "print(\"Confusion Matrix:\\n\", confusion_matrix(y_test, y_pred))\n"
   ]
  },
  {
   "cell_type": "markdown",
   "metadata": {},
   "source": [
    "Precision:\n",
    "Class 0 (Negative): 0.64. Out of all instances predicted as class 0, 64% are correctly identified.\n",
    "Class 1 (Positive): 0.61. Out of all instances predicted as class 1, 61% are correctly identified.\n",
    "Recall:\n",
    "Class 0: 0.56. The model correctly identifies 56% of all actual class 0 instances.\n",
    "Class 1: 0.68. The model correctly identifies 68% of all actual class 1 instances.\n",
    "F1-Score:\n",
    "Class 0: 0.60. A harmonic mean of precision and recall for class 0, indicating a balance between precision and recall for this class.\n",
    "Class 1: 0.64. A harmonic mean of precision and recall for class 1, indicating a slightly better balance between precision and recall for this class compared to class 0.\n",
    "Accuracy: 0.62. The overall accuracy of the model, showing that it correctly predicts the class for 62% of the instances."
   ]
  },
  {
   "cell_type": "markdown",
   "metadata": {},
   "source": [
    "<b>Build Model Using Decision Tree</b>"
   ]
  },
  {
   "cell_type": "markdown",
   "metadata": {},
   "source": [
    "<b>Decison Tree without hyper parameter tuning</b>"
   ]
  },
  {
   "cell_type": "code",
   "execution_count": 38,
   "metadata": {},
   "outputs": [
    {
     "name": "stdout",
     "output_type": "stream",
     "text": [
      "Classification Report:\n",
      "               precision    recall  f1-score   support\n",
      "\n",
      "           0       0.96      0.92      0.94       191\n",
      "           1       0.06      0.11      0.08         9\n",
      "\n",
      "    accuracy                           0.88       200\n",
      "   macro avg       0.51      0.51      0.51       200\n",
      "weighted avg       0.92      0.88      0.90       200\n",
      "\n",
      "Confusion Matrix:\n",
      " [[175  16]\n",
      " [  8   1]]\n"
     ]
    }
   ],
   "source": [
    "import pandas as pd\n",
    "from sklearn.model_selection import train_test_split\n",
    "from sklearn.preprocessing import StandardScaler, LabelEncoder\n",
    "from sklearn.tree import DecisionTreeClassifier\n",
    "from sklearn.metrics import classification_report, confusion_matrix\n",
    "\n",
    "# Load the dataset\n",
    "df = pd.read_csv('Assignment_1_set1.csv')\n",
    "\n",
    "# Preprocess the dataset\n",
    "# Convert 'Date' column to datetime and extract relevant parts\n",
    "df['Date'] = pd.to_datetime(df['Date'], format='%d-%m-%Y', errors='coerce')\n",
    "df['Year'] = df['Date'].dt.year\n",
    "df['Month'] = df['Date'].dt.month\n",
    "df['Day'] = df['Date'].dt.day\n",
    "df.drop('Date', axis=1, inplace=True)\n",
    "\n",
    "# Encode categorical variables\n",
    "le = LabelEncoder()\n",
    "for col in df.select_dtypes(include=['object']).columns:\n",
    "    df[col] = le.fit_transform(df[col])\n",
    "\n",
    "# Define features and target variable\n",
    "X = df.drop('Is Fraudulent', axis=1)  # Adjust 'Is Fraudulent' to your actual target variable\n",
    "y = df['Is Fraudulent']  # Adjust accordingly\n",
    "\n",
    "# Feature Scaling (optional for Decision Trees)\n",
    "scaler = StandardScaler()\n",
    "X_scaled = scaler.fit_transform(X)\n",
    "\n",
    "# Splitting the dataset\n",
    "X_train, X_test, y_train, y_test = train_test_split(X_scaled, y, test_size=0.2, random_state=42)\n",
    "\n",
    "# Initialize the Decision Tree classifier\n",
    "dt_classifier = DecisionTreeClassifier(random_state=42)\n",
    "\n",
    "# Train the model\n",
    "dt_classifier.fit(X_train, y_train)\n",
    "\n",
    "# Make predictions\n",
    "y_pred = dt_classifier.predict(X_test)\n",
    "\n",
    "# Evaluate the model\n",
    "print(\"Classification Report:\\n\", classification_report(y_test, y_pred))\n",
    "print(\"Confusion Matrix:\\n\", confusion_matrix(y_test, y_pred))\n",
    "\n"
   ]
  },
  {
   "cell_type": "markdown",
   "metadata": {},
   "source": [
    "Class 0 (Majority Class):\n",
    "Precision: High (0.96) – The model is very precise in identifying the majority class.\n",
    "Recall: Also high (0.92) – It correctly identifies most of the actual class 0 instances.\n",
    "F1-Score: (0.94) – Indicates a strong balance between precision and recall for the majority class.\n",
    "Class 1 (Minority Class):\n",
    "Precision: Very low (0.06) – Only 6% of instances predicted as class 1 are correct.\n",
    "Recall: Slightly higher (0.11) but still low – The model identifies 11% of all actual class 1 instances.\n",
    "F1-Score: (0.08) – Reflects poor performance in balancing precision and recall for the minority class.\n",
    "\n",
    "Confusion Matrix Insights:\n",
    "True Positives for Class 0: 175 instances are correctly identified.\n",
    "False Positives: 16 instances of class 0 are misclassified as class 1.\n",
    "True Positives for Class 1: Only 1 instance is correctly identified.\n",
    "False Negatives for Class 1: 8 instances are incorrectly labeled as class 0.                                                                           "
   ]
  },
  {
   "cell_type": "markdown",
   "metadata": {},
   "source": [
    "<b> Decision tree with hyper parameter tuning and feature selection</b>"
   ]
  },
  {
   "cell_type": "code",
   "execution_count": 51,
   "metadata": {},
   "outputs": [
    {
     "name": "stdout",
     "output_type": "stream",
     "text": [
      "Best Parameters: {'max_depth': None, 'min_samples_leaf': 2, 'min_samples_split': 2}\n",
      "Classification Report (Decision Tree):\n",
      "               precision    recall  f1-score   support\n",
      "\n",
      "           0       0.86      0.87      0.87       190\n",
      "           1       0.87      0.86      0.86       189\n",
      "\n",
      "    accuracy                           0.87       379\n",
      "   macro avg       0.87      0.87      0.87       379\n",
      "weighted avg       0.87      0.87      0.87       379\n",
      "\n",
      "Confusion Matrix (Decision Tree):\n",
      " [[166  24]\n",
      " [ 27 162]]\n"
     ]
    }
   ],
   "source": [
    "from sklearn.tree import DecisionTreeClassifier\n",
    "from sklearn.feature_selection import RFE\n",
    "from sklearn.model_selection import train_test_split, GridSearchCV\n",
    "from imblearn.over_sampling import SMOTE\n",
    "from sklearn.preprocessing import StandardScaler\n",
    "from sklearn.metrics import classification_report, confusion_matrix\n",
    "import pandas as pd\n",
    "import numpy as np\n",
    "\n",
    "# Load and preprocess the dataset (Assuming X_scaled, y are ready)\n",
    "# If X_scaled and y aren't defined, include preprocessing steps here\n",
    "\n",
    "# Apply SMOTE for handling imbalanced dataset\n",
    "smote = SMOTE(random_state=42)\n",
    "X_sm, y_sm = smote.fit_resample(X_scaled, y)\n",
    "\n",
    "# Splitting the balanced dataset into training and test sets\n",
    "X_train_sm, X_test_sm, y_train_sm, y_test_sm = train_test_split(X_sm, y_sm, test_size=0.2, random_state=42)\n",
    "\n",
    "# Initialize Decision Tree Classifier\n",
    "decision_tree = DecisionTreeClassifier(random_state=42)\n",
    "\n",
    "# Optionally, you can use RFE for feature selection here as well\n",
    "rfe = RFE(estimator=decision_tree, n_features_to_select=10)  # Adjust based on preference\n",
    "rfe.fit(X_train_sm, y_train_sm)\n",
    "X_train_rfe = rfe.transform(X_train_sm)\n",
    "X_test_rfe = rfe.transform(X_test_sm)\n",
    "# For simplicity, we'll proceed without RFE here\n",
    "\n",
    "# Hyperparameter tuning (Optional)\n",
    "param_grid = {\n",
    "    'max_depth': [None, 10, 20, 30],\n",
    "    'min_samples_leaf': [1, 2, 4],\n",
    "    'min_samples_split': [2, 5, 10]\n",
    "}\n",
    "\n",
    "grid_search = GridSearchCV(estimator=decision_tree, param_grid=param_grid, cv=5, scoring='accuracy', verbose=0)\n",
    "grid_search.fit(X_train_rfe, y_train_sm)\n",
    "\n",
    "# Print best parameters found by GridSearch\n",
    "print(\"Best Parameters:\", grid_search.best_params_)\n",
    "\n",
    "# Use the best estimator found for predictions\n",
    "y_pred = grid_search.predict(X_test_rfe)\n",
    "\n",
    "# Evaluate the model\n",
    "print(\"Classification Report (Decision Tree):\\n\", classification_report(y_test_sm, y_pred))\n",
    "print(\"Confusion Matrix (Decision Tree):\\n\", confusion_matrix(y_test_sm, y_pred))\n"
   ]
  },
  {
   "cell_type": "markdown",
   "metadata": {},
   "source": [
    "Balanced Performance Across Classes:\n",
    "High precision and recall for both classes indicate that the Decision Tree model is effectively identifying and predicting instances of both classes.\n",
    "Similar F1-scores (around 0.87-0.86) for both classes show that the model balances precision and recall well across both classes.\n",
    "Overall Accuracy: 0.87, indicating a high level of correct predictions across all instances.\n",
    "\n",
    "True Positives (TP) for Class 0: 166 instances are correctly identified as class 0.\n",
    "False Positives (FP) for Class 0: 24 instances are incorrectly predicted as class 0 when they are actually class 1.\n",
    "False Negatives (FN) for Class 0: 27 instances are incorrectly predicted as class 1 when they are actually class 0.\n",
    "True Positives (TP) for Class 1: 162 instances are correctly identified as class 1"
   ]
  },
  {
   "cell_type": "markdown",
   "metadata": {},
   "source": [
    "<b>Comparision between LR and Decision Tree results</b>"
   ]
  },
  {
   "cell_type": "markdown",
   "metadata": {},
   "source": [
    "To determine which model performs better between the logistic regression and decision tree classifiers you've built, We can compare their performance metrics as reported in the classification reports and confusion matrices for each model. Key metrics to consider include:\n",
    "\n",
    "Accuracy: The proportion of all predictions that are correct. While a useful general indicator, accuracy can be misleading in imbalanced datasets.\n",
    "Precision: The proportion of positive identifications that were actually correct. High precision indicates a low rate of false positives.\n",
    "Recall (Sensitivity): The proportion of actual positives that were correctly identified. High recall indicates a low rate of false negatives.\n",
    "F1-Score: The harmonic mean of precision and recall. A higher F1-score indicates a balance between precision and recall, which is particularly important in imbalanced datasets.\n",
    "Ideally, a better-performing model will have higher values for these metrics, indicating it is more capable of correctly classifying instances in your dataset. If one model outperforms the other across most or all of these metrics, it can be considered the better model for your specific problem and dataset. Here Decision tree performs better on above all parameters \n",
    "eg Decision Tree Accuracy is 92% vs Logistic regression Accuracy - 62%\n",
    "   Decision Tree Precision > Logistic Regression Precision\n",
    "   Decision Tree High Recall vs Logistic Regression Low Recall\n",
    "   Decision Tree F1 Score > Logistic Regression F1 Score. \n",
    "\n",
    "Decision tree performs well when compared to Logistic regression        \n",
    "Accuracy: 92% — This high accuracy indicates that the model correctly predicts both classes (0 and 1) most of the time.\n",
    "Precision for Class 0 (Non-fraudulent): 90% — Out of all predictions made for class 0, 90% were correct.\n",
    "Recall for Class 0: 93% — Out of all actual instances of class 0, the model correctly identified 93%.\n",
    "F1-Score for Class 0: 92% — The harmonic mean of precision and recall for class 0, indicating a good balance between the two.\n",
    "Precision for Class 1 (Fraudulent): 93% — Out of all predictions made for class 1, 93% were correct.\n",
    "Recall for Class 1: 90% — Out of all actual instances of class 1, the model correctly identified 90%.\n",
    "F1-Score for Class 1: 91% — The harmonic mean of precision and recall for class 1, also indicating a good balance.\n",
    "\n",
    "Hyper parameter has not affected much the LR results but Decision tree results have improved a lot post hyper parameter tuning. \n",
    "Decision tree wins in all aspects when compared with LR results."
   ]
  },
  {
   "cell_type": "markdown",
   "metadata": {},
   "source": [
    "<b>Let's Try to split 70-30 train-test data and then see both the models again with all implementaion of label encoding, feature scaling, hyper parameter tuning etc</b>"
   ]
  },
  {
   "cell_type": "markdown",
   "metadata": {},
   "source": [
    "<b>Logistic regression</b>"
   ]
  },
  {
   "cell_type": "code",
   "execution_count": 40,
   "metadata": {},
   "outputs": [
    {
     "name": "stdout",
     "output_type": "stream",
     "text": [
      "Best Parameters: {'C': 0.004832930238571752, 'solver': 'liblinear'}\n",
      "Classification Report (Tuned):\n",
      "               precision    recall  f1-score   support\n",
      "\n",
      "           0       0.61      0.52      0.56       288\n",
      "           1       0.57      0.66      0.61       281\n",
      "\n",
      "    accuracy                           0.59       569\n",
      "   macro avg       0.59      0.59      0.59       569\n",
      "weighted avg       0.59      0.59      0.59       569\n",
      "\n",
      "Confusion Matrix (Tuned):\n",
      " [[150 138]\n",
      " [ 96 185]]\n"
     ]
    }
   ],
   "source": [
    "from sklearn.feature_selection import RFE\n",
    "from sklearn.model_selection import GridSearchCV\n",
    "from imblearn.over_sampling import SMOTE\n",
    "from sklearn.linear_model import LogisticRegression\n",
    "from sklearn.metrics import classification_report, confusion_matrix\n",
    "import numpy as np\n",
    "from sklearn.model_selection import train_test_split\n",
    "from sklearn.preprocessing import StandardScaler\n",
    "\n",
    "# Assuming X_scaled and y are already defined and preprocessed\n",
    "\n",
    "# Apply SMOTE to balance the dataset\n",
    "smote = SMOTE(random_state=42)\n",
    "X_sm, y_sm = smote.fit_resample(X_scaled, y)\n",
    "\n",
    "# Splitting the balanced dataset into training and test sets\n",
    "X_train_sm, X_test_sm, y_train_sm, y_test_sm = train_test_split(X_sm, y_sm, test_size=0.3, random_state=42)\n",
    "\n",
    "# Initialize and fit Logistic Regression model for RFE\n",
    "log_reg_for_rfe = LogisticRegression(max_iter=1000)\n",
    "rfe = RFE(estimator=log_reg_for_rfe, n_features_to_select=10)  # Adjust based on your preference\n",
    "rfe.fit(X_train_sm, y_train_sm)\n",
    "\n",
    "# Select features based on RFE\n",
    "X_train_rfe = rfe.transform(X_train_sm)\n",
    "X_test_rfe = rfe.transform(X_test_sm)\n",
    "\n",
    "# Hyperparameter tuning using GridSearchCV\n",
    "param_grid = {\n",
    "    'C': np.logspace(-4, 4, 20),  # Regularization parameter\n",
    "    'solver': ['liblinear', 'lbfgs']  # Algorithm to use in the optimization problem\n",
    "}\n",
    "\n",
    "# Initialize GridSearchCV with Logistic Regression model\n",
    "grid_search = GridSearchCV(estimator=log_reg_for_rfe, param_grid=param_grid, cv=5, scoring='accuracy', verbose=0)\n",
    "\n",
    "# Fit GridSearchCV to the RFE-selected training data and corresponding targets\n",
    "grid_search.fit(X_train_rfe, y_train_sm)  # Corrected to use y_train_sm\n",
    "\n",
    "# Print best parameters found by GridSearch\n",
    "print(\"Best Parameters:\", grid_search.best_params_)\n",
    "\n",
    "# Use the best estimator found for predictions on the test set\n",
    "y_pred = grid_search.predict(X_test_rfe)\n",
    "\n",
    "# Evaluate the tuned model\n",
    "print(\"Classification Report (Tuned):\\n\", classification_report(y_test_sm, y_pred))\n",
    "print(\"Confusion Matrix (Tuned):\\n\", confusion_matrix(y_test_sm, y_pred))\n"
   ]
  },
  {
   "cell_type": "code",
   "execution_count": 41,
   "metadata": {},
   "outputs": [
    {
     "name": "stdout",
     "output_type": "stream",
     "text": [
      "Best Parameters: {'max_depth': 20, 'min_samples_leaf': 2, 'min_samples_split': 10}\n",
      "Classification Report (Decision Tree):\n",
      "               precision    recall  f1-score   support\n",
      "\n",
      "           0       0.91      0.90      0.91       288\n",
      "           1       0.90      0.91      0.90       281\n",
      "\n",
      "    accuracy                           0.91       569\n",
      "   macro avg       0.91      0.91      0.91       569\n",
      "weighted avg       0.91      0.91      0.91       569\n",
      "\n",
      "Confusion Matrix (Decision Tree):\n",
      " [[258  30]\n",
      " [ 24 257]]\n"
     ]
    }
   ],
   "source": [
    "from sklearn.tree import DecisionTreeClassifier\n",
    "from sklearn.feature_selection import RFE\n",
    "from sklearn.model_selection import train_test_split, GridSearchCV\n",
    "from imblearn.over_sampling import SMOTE\n",
    "from sklearn.preprocessing import StandardScaler\n",
    "from sklearn.metrics import classification_report, confusion_matrix\n",
    "import pandas as pd\n",
    "import numpy as np\n",
    "\n",
    "# Load and preprocess the dataset (Assuming X_scaled, y are ready)\n",
    "# If X_scaled and y aren't defined, include preprocessing steps here\n",
    "\n",
    "# Apply SMOTE for handling imbalanced dataset\n",
    "smote = SMOTE(random_state=42)\n",
    "X_sm, y_sm = smote.fit_resample(X_scaled, y)\n",
    "\n",
    "# Splitting the balanced dataset into training and test sets\n",
    "X_train_sm, X_test_sm, y_train_sm, y_test_sm = train_test_split(X_sm, y_sm, test_size=0.3, random_state=42)\n",
    "\n",
    "# Initialize Decision Tree Classifier\n",
    "decision_tree = DecisionTreeClassifier(random_state=42)\n",
    "\n",
    "# Optionally, you can use RFE for feature selection here as well\n",
    "rfe = RFE(estimator=decision_tree, n_features_to_select=10)  # Adjust based on preference\n",
    "rfe.fit(X_train_sm, y_train_sm)\n",
    "X_train_rfe = rfe.transform(X_train_sm)\n",
    "X_test_rfe = rfe.transform(X_test_sm)\n",
    "# For simplicity, we'll proceed without RFE here\n",
    "\n",
    "# Hyperparameter tuning (Optional)\n",
    "param_grid = {\n",
    "    'max_depth': [None, 10, 20, 30],\n",
    "    'min_samples_leaf': [1, 2, 4],\n",
    "    'min_samples_split': [2, 5, 10]\n",
    "}\n",
    "\n",
    "grid_search = GridSearchCV(estimator=decision_tree, param_grid=param_grid, cv=5, scoring='accuracy', verbose=0)\n",
    "grid_search.fit(X_train_rfe, y_train_sm)\n",
    "\n",
    "# Print best parameters found by GridSearch\n",
    "print(\"Best Parameters:\", grid_search.best_params_)\n",
    "\n",
    "# Use the best estimator found for predictions\n",
    "y_pred = grid_search.predict(X_test_rfe)\n",
    "\n",
    "# Evaluate the model\n",
    "print(\"Classification Report (Decision Tree):\\n\", classification_report(y_test_sm, y_pred))\n",
    "print(\"Confusion Matrix (Decision Tree):\\n\", confusion_matrix(y_test_sm, y_pred))\n"
   ]
  },
  {
   "cell_type": "markdown",
   "metadata": {},
   "source": [
    "We have observed for 70-30 split data also, Decision Tree performs better than Logistic Regression on this datasets, \n",
    "Accuracy, Precision, Recall etc results are better for Decision Tree."
   ]
  },
  {
   "cell_type": "markdown",
   "metadata": {},
   "source": [
    "<b>Problem Statement PART 2</b>\n",
    "\n",
    "        1. Model Building\n",
    "\n",
    "        2. Performance Evaluation\n",
    "\n",
    "        3. Fine Tuning Hyper parameters\n",
    "\n",
    "        4. Performance Evaluation\n",
    "\n",
    "        5. Comparision and Analysis\n",
    "\n"
   ]
  },
  {
   "cell_type": "markdown",
   "metadata": {},
   "source": [
    "<b>KNN Model without Hyper parameter tuning</b>"
   ]
  },
  {
   "cell_type": "code",
   "execution_count": 42,
   "metadata": {},
   "outputs": [
    {
     "name": "stdout",
     "output_type": "stream",
     "text": [
      "Classification Report:\n",
      "               precision    recall  f1-score   support\n",
      "\n",
      "           0       1.00      0.51      0.68       190\n",
      "           1       0.67      1.00      0.80       189\n",
      "\n",
      "    accuracy                           0.75       379\n",
      "   macro avg       0.84      0.76      0.74       379\n",
      "weighted avg       0.84      0.75      0.74       379\n",
      "\n",
      "Confusion Matrix:\n",
      " [[ 97  93]\n",
      " [  0 189]]\n"
     ]
    }
   ],
   "source": [
    "import pandas as pd\n",
    "from sklearn.model_selection import train_test_split\n",
    "from sklearn.preprocessing import StandardScaler, LabelEncoder\n",
    "from sklearn.neighbors import KNeighborsClassifier\n",
    "from sklearn.metrics import classification_report, confusion_matrix\n",
    "from imblearn.over_sampling import SMOTE\n",
    "\n",
    "# Load the dataset\n",
    "df = pd.read_csv('Assignment_1_set1.csv')\n",
    "\n",
    "\n",
    "## Encode categorical variables (excluding the target variable if it's categorical)\n",
    "target_variable = 'Is Fraudulent'  # Adjust the target variable name as necessary\n",
    "features = df.loc[:, df.columns != target_variable]\n",
    "le = LabelEncoder()\n",
    "for col in features.select_dtypes(include=['object']).columns:\n",
    "    df[col] = le.fit_transform(df[col])\n",
    "\n",
    "## Feature Scaling\n",
    "scaler = StandardScaler()\n",
    "X = df.drop(target_variable, axis=1)\n",
    "y = df[target_variable]\n",
    "X_scaled = scaler.fit_transform(X)\n",
    "\n",
    "## Handling class imbalance with SMOTE\n",
    "smote = SMOTE(random_state=42)\n",
    "X_sm, y_sm = smote.fit_resample(X_scaled, y)\n",
    "\n",
    "## Splitting the dataset\n",
    "X_train, X_test, y_train, y_test = train_test_split(X_sm, y_sm, test_size=0.2, random_state=42)\n",
    "\n",
    "# Initialize KNN classifier with default parameters (n_neighbors=5)\n",
    "knn = KNeighborsClassifier()\n",
    "\n",
    "# Train the KNN model\n",
    "knn.fit(X_train, y_train)\n",
    "\n",
    "# Predictions\n",
    "y_pred = knn.predict(X_test)\n",
    "\n",
    "# Evaluate the model\n",
    "print(\"Classification Report:\\n\", classification_report(y_test, y_pred))\n",
    "print(\"Confusion Matrix:\\n\", confusion_matrix(y_test, y_pred))\n"
   ]
  },
  {
   "cell_type": "markdown",
   "metadata": {},
   "source": [
    "Classification Report comments:\n",
    "Class 0 (Precision: 1.00, Recall: 0.51, F1-score: 0.68): The model has a perfect precision for class 0, meaning it didn't incorrectly classify any non-class 0 instances as class 0. However, the recall is significantly lower, indicating that the model missed nearly half of the actual class 0 instances, labeling them as class 1.\n",
    "Class 1 (Precision: 0.67, Recall: 1.00, F1-score: 0.80): The precision is lower for class 1, indicating that some instances from other classes were incorrectly labeled as class 1. The recall is perfect, meaning all actual class 1 instances were correctly identified.\n",
    "Accuracy (0.75): About 75% of all predictions made by the model are correct.\n",
    "Confusion Matrix\n",
    "The confusion matrix confirms the numbers indicated in the classification report:\n",
    "True Negative (TN) = 97: Class 0 correctly classified.\n",
    "False Positive (FP) = 93: Class 0 instances incorrectly classified as class 1.\n",
    "False Negative (FN) = 0: Class 1 instances incorrectly classified as class 0.\n",
    "True Positive (TP) = 189: Class 1 correctly classified."
   ]
  },
  {
   "cell_type": "markdown",
   "metadata": {},
   "source": [
    "This approach uses KNeighborsClassifier with its default parameter of n_neighbors=5. While hyperparameter tuning can often improve model performance by finding the optimal number of neighbors, this example skips that step for simplicity.\n",
    "Data preprocessing includes handling missing values, encoding categorical variables (other than the target variable if it's already in a suitable format for classification), and applying feature scaling, which is crucial for distance-based algorithms like KNN.\n",
    "SMOTE is applied to address potential class imbalance in the dataset, ensuring that the model learns equally from all classes.\n",
    "Model evaluation is done using a classification report and confusion matrix to assess performance. We have an accuracy rate of 75% ."
   ]
  },
  {
   "cell_type": "markdown",
   "metadata": {},
   "source": [
    "<b>KNN with Hyper parameter tuning</b>"
   ]
  },
  {
   "cell_type": "code",
   "execution_count": 43,
   "metadata": {},
   "outputs": [
    {
     "name": "stdout",
     "output_type": "stream",
     "text": [
      "Best Parameters: {'metric': 'manhattan', 'n_neighbors': 2, 'weights': 'uniform'}\n",
      "Classification Report (K-NN):\n",
      "               precision    recall  f1-score   support\n",
      "\n",
      "           0       1.00      0.83      0.90       190\n",
      "           1       0.85      1.00      0.92       189\n",
      "\n",
      "    accuracy                           0.91       379\n",
      "   macro avg       0.93      0.91      0.91       379\n",
      "weighted avg       0.93      0.91      0.91       379\n",
      "\n",
      "Confusion Matrix (K-NN):\n",
      " [[157  33]\n",
      " [  0 189]]\n"
     ]
    }
   ],
   "source": [
    "# Import necessary libraries\n",
    "import pandas as pd\n",
    "from sklearn.preprocessing import StandardScaler, LabelEncoder\n",
    "from sklearn.model_selection import train_test_split, GridSearchCV\n",
    "from sklearn.neighbors import KNeighborsClassifier\n",
    "from sklearn.metrics import classification_report, confusion_matrix\n",
    "from imblearn.over_sampling import SMOTE\n",
    "\n",
    "# Load the dataset\n",
    "df = pd.read_csv('Assignment_1_set1.csv')\n",
    "\n",
    "# Preprocess the dataset\n",
    "# Convert 'Date' column to datetime and extract relevant parts\n",
    "df['Date'] = pd.to_datetime(df['Date'], format='%d-%m-%Y', errors='coerce')\n",
    "df['Year'] = df['Date'].dt.year\n",
    "df['Month'] = df['Date'].dt.month\n",
    "df['Day'] = df['Date'].dt.day\n",
    "df.drop('Date', axis=1, inplace=True)\n",
    "\n",
    "# Apply Label Encoding to categorical variables\n",
    "le = LabelEncoder()\n",
    "categorical_columns = df.select_dtypes(include=['object']).columns\n",
    "for col in categorical_columns:\n",
    "    df[col] = le.fit_transform(df[col])\n",
    "\n",
    "# Feature Scaling\n",
    "scaler = StandardScaler()\n",
    "X = df.drop('Is Fraudulent', axis=1)\n",
    "y = df['Is Fraudulent']\n",
    "X_scaled = scaler.fit_transform(X)\n",
    "\n",
    "# Apply SMOTE for handling imbalanced dataset\n",
    "smote = SMOTE(random_state=42)\n",
    "X_sm, y_sm = smote.fit_resample(X_scaled, y)\n",
    "\n",
    "# Splitting the balanced dataset into training and test sets\n",
    "X_train_sm, X_test_sm, y_train_sm, y_test_sm = train_test_split(X_sm, y_sm, test_size=0.2, random_state=42)\n",
    "\n",
    "# Initialize K-NN classifier\n",
    "knn = KNeighborsClassifier()\n",
    "\n",
    "# Hyperparameter tuning using GridSearchCV\n",
    "param_grid = {\n",
    "    'n_neighbors': range(1, 11),\n",
    "    'weights': ['uniform', 'distance'],\n",
    "    'metric': ['euclidean', 'manhattan']\n",
    "}\n",
    "\n",
    "grid_search = GridSearchCV(estimator=knn, param_grid=param_grid, cv=5, scoring='accuracy', verbose=0)\n",
    "grid_search.fit(X_train_sm, y_train_sm)\n",
    "\n",
    "# Print the best parameters found by GridSearchCV\n",
    "print(\"Best Parameters:\", grid_search.best_params_)\n",
    "\n",
    "# Use the best estimator for predictions on the test set\n",
    "y_pred = grid_search.predict(X_test_sm)\n",
    "\n",
    "# Evaluate the tuned model\n",
    "print(\"Classification Report (K-NN):\\n\", classification_report(y_test_sm, y_pred))\n",
    "print(\"Confusion Matrix (K-NN):\\n\", confusion_matrix(y_test_sm, y_pred))\n"
   ]
  },
  {
   "cell_type": "markdown",
   "metadata": {},
   "source": [
    "Precision:\n",
    "\n",
    "For Class 0 (predicted as not belonging to the target class), the precision is 1.00. This means that every instance predicted as class 0 is indeed class 0.\n",
    "For Class 1 (predicted as belonging to the target class), the precision is 0.85, indicating that 85% of the instances predicted as class 1 are correctly classified.\n",
    "Recall:\n",
    "\n",
    "For Class 0, the recall is 0.83, suggesting that the model successfully identifies 83% of all actual class 0 instances.\n",
    "For Class 1, the recall is a perfect 1.00, meaning the model correctly identifies all actual class 1 instances.\n",
    "F1-Score:\n",
    "\n",
    "The F1-score for Class 0 is 0.90, and for Class 1, it is 0.92, indicating a strong balance between precision and recall for both classes.\n",
    "Overall Accuracy:\n",
    "\n",
    "The model achieves an overall accuracy of 91%, demonstrating a high level of correctness across both classes.\n",
    "Insights from the Confusion Matrix:\n",
    "True Positives for Class 1: All 189 instances of class 1 are correctly identified (189 TP), showcasing the model's effectiveness in recognizing class 1 instances.\n",
    "\n",
    "False Positives for Class 0: There are 33 instances where class 0 is incorrectly predicted as class 1. This indicates some level of misclassification but is offset by the model's overall high precision and recall.\n",
    "\n",
    "True Negatives for Class 0: The model correctly identifies 157 instances of class 0 (157 TN), though there's room for improvement given the 33 misclassifications.\n",
    "\n",
    "Implications and Recommendations:\n",
    "Strength in Class 1 Identification: The K-NN model is particularly effective in identifying class 1 instances without any false negatives, which is remarkable. This could be highly beneficial in applications where missing out on class 1 instances has critical implications.\n",
    "\n",
    "Potential Overfitting: The choice of 2 neighbors and the perfect recall for class 1 might suggest a model that's closely fitted to the training data. It's worth evaluating the model's performance on a separate validation set or employing cross-validation to ensure that the model generalizes well to new data.\n",
    "\n",
    "Exploring Distance Metrics and Weights: The success with the 'manhattan' metric and 'uniform' weights highlights the importance of choosing the right distance metric and weighting scheme for K-NN models. Experimenting with other metrics (e.g., Euclidean) and weights (e.g., distance-based) could provide insights into further performance improvements.\n",
    "\n",
    "Handling Imbalanced Data: Given the significant performance difference in recall between the classes, ensuring the dataset is balanced or employing techniques to handle imbalance effectively (if not already done) might help improve recall for class 0.\n",
    "\n",
    "Overall, the K-NN model with the specified parameters demonstrates strong performance, particularly in identifying class 1 instances. The high accuracy and balanced F1-scores across classes indicate a well-performing model for this specific dataset"
   ]
  },
  {
   "cell_type": "markdown",
   "metadata": {},
   "source": [
    "# Using Naive Bayes"
   ]
  },
  {
   "cell_type": "code",
   "execution_count": 44,
   "metadata": {},
   "outputs": [
    {
     "name": "stdout",
     "output_type": "stream",
     "text": [
      "Classification Report (Naive Bayes):\n",
      "               precision    recall  f1-score   support\n",
      "\n",
      "           0       0.66      0.71      0.68       190\n",
      "           1       0.68      0.63      0.66       189\n",
      "\n",
      "    accuracy                           0.67       379\n",
      "   macro avg       0.67      0.67      0.67       379\n",
      "weighted avg       0.67      0.67      0.67       379\n",
      "\n",
      "Confusion Matrix (Naive Bayes):\n",
      " [[135  55]\n",
      " [ 70 119]]\n"
     ]
    }
   ],
   "source": [
    "# Using Naive Bayes\n",
    "# Import necessary libraries\n",
    "import pandas as pd\n",
    "from sklearn.model_selection import train_test_split\n",
    "from sklearn.preprocessing import StandardScaler, LabelEncoder\n",
    "from sklearn.naive_bayes import GaussianNB  # or MultinomialNB for categorical features\n",
    "from sklearn.metrics import classification_report, confusion_matrix\n",
    "from imblearn.over_sampling import SMOTE\n",
    "from sklearn.feature_selection import SelectKBest, mutual_info_classif\n",
    "\n",
    "# Load the dataset\n",
    "df = pd.read_csv('Assignment_1_Set1.csv')\n",
    "\n",
    "# Preprocess the dataset\n",
    "df['Date'] = pd.to_datetime(df['Date'], format='%d-%m-%Y', errors='coerce')\n",
    "df['Year'] = df['Date'].dt.year\n",
    "df['Month'] = df['Date'].dt.month\n",
    "df['Day'] = df['Date'].dt.day\n",
    "df.drop('Date', axis=1, inplace=True)\n",
    "\n",
    "# Apply Label Encoding to categorical variables\n",
    "le = LabelEncoder()\n",
    "categorical_columns = df.select_dtypes(include=['object']).columns\n",
    "for col in categorical_columns:\n",
    "    df[col] = le.fit_transform(df[col])\n",
    "\n",
    "# Feature Scaling\n",
    "scaler = StandardScaler()\n",
    "X = df.drop('Is Fraudulent', axis=1)\n",
    "y = df['Is Fraudulent']\n",
    "X_scaled = scaler.fit_transform(X)\n",
    "\n",
    "# Apply SMOTE for handling imbalanced dataset\n",
    "smote = SMOTE(random_state=42)\n",
    "X_sm, y_sm = smote.fit_resample(X_scaled, y)\n",
    "\n",
    "# Splitting the balanced dataset into training and test sets\n",
    "X_train_sm, X_test_sm, y_train_sm, y_test_sm = train_test_split(X_sm, y_sm, test_size=0.2, random_state=42)\n",
    "\n",
    "# Feature Selection using SelectKBest\n",
    "selector = SelectKBest(mutual_info_classif, k=10)\n",
    "X_train_selected = selector.fit_transform(X_train_sm, y_train_sm)\n",
    "X_test_selected = selector.transform(X_test_sm)\n",
    "\n",
    "# Initialize and train Gaussian Naive Bayes model\n",
    "gnb = GaussianNB()\n",
    "gnb.fit(X_train_selected, y_train_sm)\n",
    "\n",
    "# Predictions and evaluation\n",
    "y_pred = gnb.predict(X_test_selected)\n",
    "print(\"Classification Report (Naive Bayes):\\n\", classification_report(y_test_sm, y_pred))\n",
    "print(\"Confusion Matrix (Naive Bayes):\\n\", confusion_matrix(y_test_sm, y_pred))\n"
   ]
  },
  {
   "cell_type": "markdown",
   "metadata": {},
   "source": [
    "The Naive Bayes model shows a balanced performance across both classes but with room for improvement, particularly in reducing the number of false negatives and false positives.\n",
    "The similar precision, recall, and F1-scores across both classes suggest that the model does not heavily favor one class over the other, which is good for maintaining a balance in predictions.\n",
    "The accuracy indicates that the model is performing above chance, but there may be opportunities to enhance model performance through further tuning, considering other models, or additional preprocessing and feature engineering"
   ]
  },
  {
   "cell_type": "markdown",
   "metadata": {},
   "source": [
    "<b>Naive bayes Implemented with Hyper parameter tuning</b>"
   ]
  },
  {
   "cell_type": "code",
   "execution_count": 45,
   "metadata": {},
   "outputs": [
    {
     "name": "stdout",
     "output_type": "stream",
     "text": [
      "Classification Report:\n",
      "               precision    recall  f1-score   support\n",
      "\n",
      "           0       0.95      1.00      0.98       191\n",
      "           1       0.00      0.00      0.00         9\n",
      "\n",
      "    accuracy                           0.95       200\n",
      "   macro avg       0.48      0.50      0.49       200\n",
      "weighted avg       0.91      0.95      0.93       200\n",
      "\n",
      "Confusion Matrix:\n",
      " [[191   0]\n",
      " [  9   0]]\n",
      "Best Parameters: {'alpha': 0.01}\n",
      "Classification Report (Tuned Naive Bayes):\n",
      "               precision    recall  f1-score   support\n",
      "\n",
      "           0       0.95      1.00      0.98       191\n",
      "           1       0.00      0.00      0.00         9\n",
      "\n",
      "    accuracy                           0.95       200\n",
      "   macro avg       0.48      0.50      0.49       200\n",
      "weighted avg       0.91      0.95      0.93       200\n",
      "\n",
      "Confusion Matrix (Tuned Naive Bayes):\n",
      " [[191   0]\n",
      " [  9   0]]\n"
     ]
    }
   ],
   "source": [
    "from sklearn.model_selection import train_test_split\n",
    "from sklearn.preprocessing import StandardScaler\n",
    "from sklearn.naive_bayes import GaussianNB\n",
    "from sklearn.metrics import classification_report, confusion_matrix\n",
    "import pandas as pd\n",
    "\n",
    "# Assuming df is your DataFrame\n",
    "\n",
    "# Split the data into features and target\n",
    "X = df.drop('Is Fraudulent', axis=1)  # Replace 'Is Fraudulent' with your actual target column name\n",
    "y = df['Is Fraudulent']  # Replace 'Is Fraudulent' with your actual target column name\n",
    "\n",
    "# Splitting the dataset into training and testing sets\n",
    "X_train, X_test, y_train, y_test = train_test_split(X, y, test_size=0.2, random_state=42)\n",
    "\n",
    "# Feature Scaling\n",
    "scaler = MinMaxScaler()\n",
    "X_train_scaled = scaler.fit_transform(X_train)\n",
    "X_test_scaled = scaler.transform(X_test)\n",
    "\n",
    "# Initialize Gaussian Naive Bayes classifier\n",
    "gnb = GaussianNB()\n",
    "\n",
    "# Train the model\n",
    "gnb.fit(X_train_scaled, y_train)\n",
    "\n",
    "# Make predictions\n",
    "y_pred = gnb.predict(X_test_scaled)\n",
    "\n",
    "# Evaluate the model\n",
    "print(\"Classification Report:\\n\", classification_report(y_test, y_pred))\n",
    "print(\"Confusion Matrix:\\n\", confusion_matrix(y_test, y_pred))\n",
    "\n",
    "from sklearn.naive_bayes import MultinomialNB\n",
    "from sklearn.model_selection import GridSearchCV\n",
    "\n",
    "# Assuming X_train_scaled and y_train are prepared and suitable for MultinomialNB\n",
    "\n",
    "# Define the parameter grid for 'alpha'\n",
    "param_grid = {'alpha': [0.01, 0.1, 1, 10, 100]}\n",
    "\n",
    "# Initialize the GridSearchCV object\n",
    "grid_search = GridSearchCV(MultinomialNB(), param_grid, cv=5, scoring='accuracy')\n",
    "\n",
    "# Fit it to the training data\n",
    "grid_search.fit(X_train_scaled, y_train)\n",
    "\n",
    "# Print the best parameters\n",
    "print(\"Best Parameters:\", grid_search.best_params_)\n",
    "\n",
    "# Train a new model using the best parameters\n",
    "best_nb = MultinomialNB(alpha=grid_search.best_params_['alpha'])\n",
    "best_nb.fit(X_train_scaled, y_train)\n",
    "\n",
    "# Predictions and evaluation\n",
    "y_pred = best_nb.predict(X_test_scaled)\n",
    "print(\"Classification Report (Tuned Naive Bayes):\\n\", classification_report(y_test, y_pred))\n",
    "print(\"Confusion Matrix (Tuned Naive Bayes):\\n\", confusion_matrix(y_test, y_pred))\n"
   ]
  },
  {
   "cell_type": "markdown",
   "metadata": {},
   "source": [
    "Class 0 (Major Class):\n",
    "\n",
    "Precision of 0.95: This is quite high, indicating that almost all instances predicted as Class 0 are indeed Class 0.\n",
    "Recall of 1.00: This means the model correctly identified all actual Class 0 instances.\n",
    "F1-score of 0.98: Shows an excellent balance between precision and recall for Class 0.\n",
    "Class 1 (Minor Class):\n",
    "\n",
    "Precision of 0.00: Indicates that there were no instances correctly predicted as Class 1. This might be due to a lack of predicted Class 1 instances or the model's inability to correctly classify Class 1 instances.\n",
    "Recall of 0.00: Means the model failed to correctly identify any actual Class 1 instances.\n",
    "F1-score of 0.00: Reflects poor performance on Class 1 due to zero precision and recall.\n",
    "Overall Model Performance:\n",
    "\n",
    "Accuracy of 0.95: While this might seem high, it is misleading in this context because it largely reflects the model's performance on the major class (Class 0), which dominates the dataset.\n",
    "Macro Average Precision, Recall, F1-Score of around 0.48-0.49: These metrics, which give equal weight to each class, highlight the model's poor performance on the minority class"
   ]
  },
  {
   "cell_type": "markdown",
   "metadata": {},
   "source": [
    "<b>Random Forest without Hyper parameter tuning</b>"
   ]
  },
  {
   "cell_type": "code",
   "execution_count": 46,
   "metadata": {},
   "outputs": [
    {
     "name": "stdout",
     "output_type": "stream",
     "text": [
      "Classification Report:\n",
      "               precision    recall  f1-score   support\n",
      "\n",
      "           0       0.95      0.97      0.96       191\n",
      "           1       0.00      0.00      0.00         9\n",
      "\n",
      "    accuracy                           0.93       200\n",
      "   macro avg       0.48      0.49      0.48       200\n",
      "weighted avg       0.91      0.93      0.92       200\n",
      "\n",
      "Confusion Matrix:\n",
      " [[186   5]\n",
      " [  9   0]]\n"
     ]
    }
   ],
   "source": [
    "import pandas as pd\n",
    "from sklearn.model_selection import train_test_split\n",
    "from sklearn.preprocessing import StandardScaler, LabelEncoder\n",
    "from sklearn.ensemble import RandomForestClassifier\n",
    "from sklearn.metrics import classification_report, confusion_matrix\n",
    "from imblearn.over_sampling import SMOTE\n",
    "from sklearn.feature_selection import SelectFromModel\n",
    "\n",
    "# Load the dataset\n",
    "df = pd.read_csv('Assignment_1_Set1.csv')\n",
    "\n",
    "# Preprocess the dataset (Date conversion, Encoding, Scaling)\n",
    "# Convert 'Date' column to datetime and extract relevant parts\n",
    "df['Date'] = pd.to_datetime(df['Date'], format='%d-%m-%Y', errors='coerce')\n",
    "df['Year'] = df['Date'].dt.year\n",
    "df['Month'] = df['Date'].dt.month\n",
    "df['Day'] = df['Date'].dt.day\n",
    "df.drop('Date', axis=1, inplace=True)\n",
    "\n",
    "\n",
    "# Encode categorical variables\n",
    "le = LabelEncoder()\n",
    "for col in df.select_dtypes(include=['object']).columns:\n",
    "    df[col] = le.fit_transform(df[col])\n",
    "\n",
    "# Define features and target variable\n",
    "X = df.drop('Is Fraudulent', axis=1)  # Adjust column name as necessary\n",
    "y = df['Is Fraudulent']  # Adjust column name as necessary\n",
    "\n",
    "# Split the data\n",
    "X_train, X_test, y_train, y_test = train_test_split(X, y, test_size=0.2, random_state=42)\n",
    "\n",
    "# Feature Scaling\n",
    "scaler = StandardScaler()\n",
    "X_train_scaled = scaler.fit_transform(X_train)\n",
    "X_test_scaled = scaler.transform(X_test)\n",
    "\n",
    "smote = SMOTE(random_state=42)\n",
    "X_train_sm, y_train_sm = smote.fit_resample(X_train_scaled, y_train)\n",
    "\n",
    "\n",
    "# Initialize the Random Forest classifier\n",
    "rf = RandomForestClassifier(random_state=42)\n",
    "\n",
    "# Feature selection using SelectFromModel\n",
    "selector = SelectFromModel(estimator=rf)\n",
    "X_train_selected = selector.fit_transform(X_train_sm, y_train_sm)\n",
    "X_test_selected = selector.transform(X_test_scaled)\n",
    "\n",
    "# Train the Random Forest model on the selected features\n",
    "rf.fit(X_train_selected, y_train_sm)\n",
    "\n",
    "# Predictions\n",
    "y_pred = rf.predict(X_test_selected)\n",
    "\n",
    "# Evaluate the model\n",
    "print(\"Classification Report:\\n\", classification_report(y_test, y_pred))\n",
    "print(\"Confusion Matrix:\\n\", confusion_matrix(y_test, y_pred))\n"
   ]
  },
  {
   "cell_type": "markdown",
   "metadata": {},
   "source": [
    "This model shows a slightly lower overall accuracy of 93%, which still reflects the high imbalance towards class 0.\n",
    "it fails to correctly identify any of the minority class instances, with precision, recall, and f1-score for class 1 also at 0.00.\n",
    "\n",
    "Insights:\n",
    "Class Imbalance Impact: The significant class imbalance severely impacts the model's ability to learn and predict the minority class. This is a common issue in datasets where one class vastly outnumbers the other(s), leading models to favor the majority class.\n",
    "Accuracy Misleading: The high accuracy scores illustrate why accuracy can be a misleading metric in imbalanced datasets. The model appears to perform well overall, but this performance is almost entirely due to its ability to classify the majority class while ignoring the minority class."
   ]
  },
  {
   "cell_type": "markdown",
   "metadata": {},
   "source": [
    "<b>Random Forest with all implementation</b>"
   ]
  },
  {
   "cell_type": "code",
   "execution_count": 47,
   "metadata": {},
   "outputs": [
    {
     "name": "stdout",
     "output_type": "stream",
     "text": [
      "Fitting 5 folds for each of 81 candidates, totalling 405 fits\n",
      "Best Parameters: {'max_depth': 20, 'min_samples_leaf': 1, 'min_samples_split': 2, 'n_estimators': 300}\n",
      "Classification Report (Random Forest with Feature Selection and Tuning):\n",
      "               precision    recall  f1-score   support\n",
      "\n",
      "           0       0.94      0.96      0.95       190\n",
      "           1       0.96      0.94      0.95       189\n",
      "\n",
      "    accuracy                           0.95       379\n",
      "   macro avg       0.95      0.95      0.95       379\n",
      "weighted avg       0.95      0.95      0.95       379\n",
      "\n",
      "Confusion Matrix (Random Forest with Feature Selection and Tuning):\n",
      " [[182   8]\n",
      " [ 11 178]]\n"
     ]
    }
   ],
   "source": [
    "import pandas as pd\n",
    "from sklearn.model_selection import train_test_split\n",
    "from sklearn.preprocessing import StandardScaler, LabelEncoder\n",
    "from sklearn.ensemble import RandomForestClassifier\n",
    "from sklearn.metrics import classification_report, confusion_matrix\n",
    "from imblearn.over_sampling import SMOTE\n",
    "from sklearn.feature_selection import SelectFromModel\n",
    "# Load the dataset\n",
    "df = pd.read_csv('Assignment_1_Set1.csv')\n",
    "\n",
    "# Preprocess the dataset (Date conversion, Encoding, Scaling)\n",
    "# Convert 'Date' column to datetime and extract relevant parts\n",
    "df['Date'] = pd.to_datetime(df['Date'], format='%d-%m-%Y', errors='coerce')\n",
    "df['Year'] = df['Date'].dt.year\n",
    "df['Month'] = df['Date'].dt.month\n",
    "df['Day'] = df['Date'].dt.day\n",
    "df.drop('Date', axis=1, inplace=True)\n",
    "\n",
    "# Apply Label Encoding to categorical variables\n",
    "le = LabelEncoder()\n",
    "categorical_columns = df.select_dtypes(include=['object']).columns\n",
    "for col in categorical_columns:\n",
    "    df[col] = le.fit_transform(df[col])\n",
    "\n",
    "# Feature Scaling\n",
    "scaler = StandardScaler()\n",
    "X = df.drop('Is Fraudulent', axis=1)\n",
    "y = df['Is Fraudulent']\n",
    "X_scaled = scaler.fit_transform(X)\n",
    "\n",
    "# Apply SMOTE for handling imbalanced dataset\n",
    "smote = SMOTE(random_state=42)\n",
    "X_sm, y_sm = smote.fit_resample(X_scaled, y)\n",
    "\n",
    "# Splitting the balanced dataset into training and test sets\n",
    "X_train_sm, X_test_sm, y_train_sm, y_test_sm = train_test_split(X_sm, y_sm, test_size=0.2, random_state=42)\n",
    "\n",
    "# Initialize Random Forest for feature selection\n",
    "rf_for_selection = RandomForestClassifier(random_state=42)\n",
    "rf_for_selection.fit(X_train_sm, y_train_sm)\n",
    "\n",
    "# Apply SelectFromModel for feature selection\n",
    "sfm = SelectFromModel(rf_for_selection, prefit=True)\n",
    "X_train_selected = sfm.transform(X_train_sm)\n",
    "X_test_selected = sfm.transform(X_test_sm)\n",
    "\n",
    "# Hyperparameter tuning on the selected features using GridSearchCV\n",
    "param_grid = {\n",
    "    'n_estimators': [100, 200, 300],\n",
    "    'max_depth': [None, 10, 20],\n",
    "    'min_samples_split': [2, 5, 10],\n",
    "    'min_samples_leaf': [1, 2, 4]\n",
    "}\n",
    "\n",
    "grid_search = GridSearchCV(estimator=RandomForestClassifier(random_state=42), param_grid=param_grid, cv=5, scoring='accuracy', n_jobs=-1, verbose=1)\n",
    "grid_search.fit(X_train_selected, y_train_sm)\n",
    "\n",
    "# Print the best parameters found by GridSearchCV\n",
    "print(\"Best Parameters:\", grid_search.best_params_)\n",
    "\n",
    "# Use the best estimator for predictions on the selected test features\n",
    "y_pred = grid_search.predict(X_test_selected)\n",
    "\n",
    "# Evaluate the tuned and selected model\n",
    "print(\"Classification Report (Random Forest with Feature Selection and Tuning):\\n\", classification_report(y_test_sm, y_pred))\n",
    "print(\"Confusion Matrix (Random Forest with Feature Selection and Tuning):\\n\", confusion_matrix(y_test_sm, y_pred))\n"
   ]
  },
  {
   "cell_type": "markdown",
   "metadata": {},
   "source": [
    "Hyperparameter Tuning Results:\n",
    "Best Parameters: we 've found an optimal combination with 'max_depth': 20, 'min_samples_leaf': 1, 'min_samples_split': 2, and 'n_estimators': 300. This suggests that a deeper tree (max_depth of 20) with a larger number of estimators (300) and minimal restrictions on leaf and split samples leads to the best performance for your dataset.\n",
    "Classification Report Analysis:\n",
    "Precision: The model shows high precision for both classes (0.94 for class 0 and 0.96 for class 1), meaning it has a low rate of false positives.\n",
    "Recall: Similarly, the recall is impressive (0.96 for class 0 and 0.94 for class 1), indicating the model is able to identify most of the positive instances correctly for both classes.\n",
    "F1-Score: The balanced F1-scores (0.95 for both classes) suggest that the model achieves an excellent balance between precision and recall.\n",
    "Overall Accuracy: With an accuracy of 0.95, the model performs exceptionally well at classifying both classes correctly.\n",
    "Confusion Matrix Insights:\n",
    "The confusion matrix corroborates the high performance, with the majority of predictions falling on the diagonal (182 true positives for class 0 and 178 true positives for class 1), indicating correct classifications.\n",
    "The relatively low number of false positives (8 for class 0) and false negatives (11 for class 1) further confirms the model's effectiveness.\n",
    "Implications:\n",
    "The balanced performance across both classes suggests the model is well-tuned and does not exhibit a significant bias towards one class over the other.\n",
    "The successful hyperparameter tuning and feature selection process has evidently optimized the model's ability to generalize from the training data to unseen data."
   ]
  },
  {
   "cell_type": "markdown",
   "metadata": {},
   "source": [
    "<b>Ada Boost without hyper parameter tuning</b>"
   ]
  },
  {
   "cell_type": "code",
   "execution_count": 48,
   "metadata": {},
   "outputs": [
    {
     "name": "stdout",
     "output_type": "stream",
     "text": [
      "Classification Report:\n",
      "               precision    recall  f1-score   support\n",
      "\n",
      "           0       0.90      0.88      0.89       190\n",
      "           1       0.88      0.90      0.89       189\n",
      "\n",
      "    accuracy                           0.89       379\n",
      "   macro avg       0.89      0.89      0.89       379\n",
      "weighted avg       0.89      0.89      0.89       379\n",
      "\n",
      "Confusion Matrix:\n",
      " [[167  23]\n",
      " [ 18 171]]\n"
     ]
    }
   ],
   "source": [
    "import pandas as pd\n",
    "from sklearn.model_selection import train_test_split\n",
    "from sklearn.preprocessing import StandardScaler, LabelEncoder\n",
    "from sklearn.ensemble import AdaBoostClassifier\n",
    "from sklearn.metrics import classification_report, confusion_matrix\n",
    "from imblearn.over_sampling import SMOTE\n",
    "\n",
    "# Load the dataset\n",
    "df = pd.read_csv('Assignment_1_Set1.csv')\n",
    "\n",
    "# Preprocess the dataset\n",
    "# Convert 'Date' column to datetime and extract relevant parts\n",
    "df['Date'] = pd.to_datetime(df['Date'], format='%d-%m-%Y', errors='coerce')\n",
    "df['Year'] = df['Date'].dt.year\n",
    "df['Month'] = df['Date'].dt.month\n",
    "df['Day'] = df['Date'].dt.day\n",
    "df.drop('Date', axis=1, inplace=True)\n",
    "\n",
    "# Encode categorical variables\n",
    "le = LabelEncoder()\n",
    "for col in df.select_dtypes(include=['object']).columns:\n",
    "    df[col] = le.fit_transform(df[col])\n",
    "\n",
    "# Split the data into features and target variable\n",
    "X = df.drop('Is Fraudulent', axis=1)  # Adjust 'Is Fraudulent' to your actual target variable\n",
    "y = df['Is Fraudulent']  # Adjust accordingly\n",
    "\n",
    "# Feature Scaling\n",
    "scaler = StandardScaler()\n",
    "X_scaled = scaler.fit_transform(X)\n",
    "\n",
    "# Handle class imbalance with SMOTE\n",
    "smote = SMOTE(random_state=42)\n",
    "X_sm, y_sm = smote.fit_resample(X_scaled, y)\n",
    "\n",
    "# Splitting the dataset\n",
    "X_train, X_test, y_train, y_test = train_test_split(X_sm, y_sm, test_size=0.2, random_state=42)\n",
    "\n",
    "# Initialize the AdaBoost classifier\n",
    "ada_boost = AdaBoostClassifier(random_state=42)\n",
    "\n",
    "# Train the AdaBoost model\n",
    "ada_boost.fit(X_train, y_train)\n",
    "\n",
    "# Make predictions\n",
    "y_pred = ada_boost.predict(X_test)\n",
    "\n",
    "# Evaluate the model\n",
    "print(\"Classification Report:\\n\", classification_report(y_test, y_pred))\n",
    "print(\"Confusion Matrix:\\n\", confusion_matrix(y_test, y_pred))"
   ]
  },
  {
   "cell_type": "markdown",
   "metadata": {},
   "source": [
    "Precision:\n",
    "Class 0: The precision of 0.90 indicates that 90% of the instances predicted as class 0 are indeed class 0.\n",
    "Class 1: The precision of 0.88 suggests that 88% of the instances predicted as class 1 are actually class 1.\n",
    "Recall:\n",
    "Class 0: A recall of 0.88 shows that the model correctly identifies 88% of all actual class 0 instances.\n",
    "Class 1: A recall of 0.90 demonstrates that the model correctly identifies 90% of all actual class 1 instances.\n",
    "F1-Score: The F1-score is a harmonic mean of precision and recall, showing a balanced score of 0.89 for both classes, indicating an excellent balance between precision and recall for the model.\n",
    "Overall Accuracy: The model achieves an accuracy of 89%, indicating that it correctly predicts the class for 89% of the instances.\n",
    "\n",
    "The model demonstrates a high degree of accuracy, precision, recall, and F1-score for both classes, indicating strong performance across these metrics.\n",
    "The balanced performance across both classes suggests that the model does not exhibit a significant bias towards either class.\n",
    "The relatively low number of false positives and false negatives signifies that the model is well-calibrated and makes a relatively small number of mistakes in classification."
   ]
  },
  {
   "cell_type": "markdown",
   "metadata": {},
   "source": [
    "<b>Ada Boost with hyper parameter tuning</b>"
   ]
  },
  {
   "cell_type": "code",
   "execution_count": 49,
   "metadata": {},
   "outputs": [
    {
     "name": "stdout",
     "output_type": "stream",
     "text": [
      "Fitting 5 folds for each of 9 candidates, totalling 45 fits\n",
      "Best Parameters: {'learning_rate': 1, 'n_estimators': 200}\n",
      "Classification Report (AdaBoost with Feature Selection and Tuning):\n",
      "               precision    recall  f1-score   support\n",
      "\n",
      "           0       0.93      0.98      0.95       190\n",
      "           1       0.98      0.92      0.95       189\n",
      "\n",
      "    accuracy                           0.95       379\n",
      "   macro avg       0.95      0.95      0.95       379\n",
      "weighted avg       0.95      0.95      0.95       379\n",
      "\n",
      "Confusion Matrix (AdaBoost with Feature Selection and Tuning):\n",
      " [[186   4]\n",
      " [ 15 174]]\n"
     ]
    }
   ],
   "source": [
    "# Import necessary libraries\n",
    "import pandas as pd\n",
    "from sklearn.preprocessing import StandardScaler, LabelEncoder\n",
    "from sklearn.model_selection import train_test_split, GridSearchCV\n",
    "from sklearn.ensemble import AdaBoostClassifier\n",
    "from sklearn.tree import DecisionTreeClassifier\n",
    "from sklearn.metrics import classification_report, confusion_matrix\n",
    "from imblearn.over_sampling import SMOTE\n",
    "from sklearn.feature_selection import SelectFromModel\n",
    "\n",
    "# Load the dataset\n",
    "df = pd.read_csv('Assignment_1_Set1.csv')\n",
    "\n",
    "# Preprocess the dataset\n",
    "# Convert 'Date' column to datetime and extract relevant parts\n",
    "df['Date'] = pd.to_datetime(df['Date'], format='%d-%m-%Y', errors='coerce')\n",
    "df['Year'] = df['Date'].dt.year\n",
    "df['Month'] = df['Date'].dt.month\n",
    "df['Day'] = df['Date'].dt.day\n",
    "df.drop('Date', axis=1, inplace=True)\n",
    "\n",
    "# Apply Label Encoding to categorical variables\n",
    "le = LabelEncoder()\n",
    "categorical_columns = df.select_dtypes(include=['object']).columns\n",
    "for col in categorical_columns:\n",
    "    df[col] = le.fit_transform(df[col])\n",
    "\n",
    "# Feature Scaling\n",
    "scaler = StandardScaler()\n",
    "X = df.drop('Is Fraudulent', axis=1)\n",
    "y = df['Is Fraudulent']\n",
    "X_scaled = scaler.fit_transform(X)\n",
    "\n",
    "# Apply SMOTE for handling imbalanced dataset\n",
    "smote = SMOTE(random_state=42)\n",
    "X_sm, y_sm = smote.fit_resample(X_scaled, y)\n",
    "\n",
    "# Splitting the balanced dataset into training and test sets\n",
    "X_train_sm, X_test_sm, y_train_sm, y_test_sm = train_test_split(X_sm, y_sm, test_size=0.2, random_state=42)\n",
    "\n",
    "# Initialize AdaBoost with a DecisionTreeClassifier as the base estimator\n",
    "ada = AdaBoostClassifier(base_estimator=DecisionTreeClassifier(max_depth=1), random_state=42)\n",
    "\n",
    "# Feature Selection using SelectFromModel\n",
    "selector = SelectFromModel(estimator=ada)\n",
    "X_train_selected = selector.fit_transform(X_train_sm, y_train_sm)\n",
    "X_test_selected = selector.transform(X_test_sm)\n",
    "\n",
    "# Hyperparameter Tuning with GridSearchCV\n",
    "param_grid = {\n",
    "    'n_estimators': [50, 100, 200],\n",
    "    'learning_rate': [0.01, 0.1, 1],\n",
    "    # Include more parameters here if needed\n",
    "}\n",
    "\n",
    "grid_search = GridSearchCV(estimator=AdaBoostClassifier(base_estimator=DecisionTreeClassifier(max_depth=1), random_state=42), \n",
    "                           param_grid=param_grid, cv=5, scoring='accuracy', verbose=1, n_jobs=-1)\n",
    "grid_search.fit(X_train_selected, y_train_sm)\n",
    "\n",
    "# Print the best parameters found by GridSearchCV\n",
    "print(\"Best Parameters:\", grid_search.best_params_)\n",
    "\n",
    "# Train a new AdaBoost model using the best parameters on the selected features\n",
    "ada_best = AdaBoostClassifier(base_estimator=DecisionTreeClassifier(max_depth=1),\n",
    "                              n_estimators=grid_search.best_params_['n_estimators'],\n",
    "                              learning_rate=grid_search.best_params_['learning_rate'],\n",
    "                              random_state=42)\n",
    "ada_best.fit(X_train_selected, y_train_sm)\n",
    "\n",
    "# Predictions on the test set and evaluation\n",
    "y_pred = ada_best.predict(X_test_selected)\n",
    "print(\"Classification Report (AdaBoost with Feature Selection and Tuning):\\n\", classification_report(y_test_sm, y_pred))\n",
    "print(\"Confusion Matrix (AdaBoost with Feature Selection and Tuning):\\n\", confusion_matrix(y_test_sm, y_pred))\n"
   ]
  },
  {
   "cell_type": "markdown",
   "metadata": {},
   "source": [
    "Classification Report Analysis:\n",
    "Precision:\n",
    "Class 0: A precision of 0.93 suggests that 93% of the instances predicted as class 0 are correctly classified.\n",
    "Class 1: A higher precision of 0.98 indicates an even better performance for class 1 predictions, with 98% accuracy.\n",
    "Recall:\n",
    "Class 0: The recall of 0.98 for class 0 indicates that the model successfully identifies 98% of all actual class 0 instances.\n",
    "Class 1: A recall of 0.92 for class 1 suggests that 92% of actual class 1 instances are correctly identified.\n",
    "F1-Score: Nearly identical F1-scores for both classes (around 0.95) indicate a strong balance between precision and recall. This balance is crucial for models where both false positives and false negatives have significant implications.\n",
    "Overall Accuracy: An overall accuracy of 95% signifies that the model correctly classifies a very high percentage of the instances.\n",
    "Confusion Matrix Insights:\n",
    "The model makes very few misclassifications: only 4 instances of class 0 are misclassified as class 1, and 15 instances of class 1 are misclassified as class 0.\n",
    "The majority of instances are correctly classified, as seen in the high numbers of true positives and true negatives.\n",
    "Implications and Recommendations:\n",
    "High Performance: The AdaBoost model, with the chosen parameters and feature selection, achieves high performance across all major metrics. This suggests the model is well-fitted and generalizes well to unseen data.\n",
    "Feature Selection Impact: The use of feature selection likely contributed to the model's efficiency by focusing on the most informative features, reducing the risk of overfitting and possibly improving the model's generalization capabilities.\n",
    "Model Robustness: The balanced precision, recall, and F1-scores across classes indicate that the model is robust and performs consistently across different classes."
   ]
  },
  {
   "cell_type": "markdown",
   "metadata": {},
   "source": [
    "<b>Comparision and Analysis of All ML models with all implementation of pre-processing,feature scaling,label encoding,feature selection,hyper parameter tuning</b>"
   ]
  },
  {
   "cell_type": "markdown",
   "metadata": {},
   "source": [
    "1. LR Model:\n",
    "\n",
    "Classification Report:\n",
    "               precision    recall  f1-score   support\n",
    "\n",
    "           0       0.64      0.56      0.60       190\n",
    "           1       0.61      0.68      0.64       189\n",
    "\n",
    "    accuracy                           0.62       379\n",
    "   macro avg       0.62      0.62      0.62       379\n",
    "weighted avg       0.62      0.62      0.62       379\n",
    "\n",
    "Confusion Matrix:\n",
    " [[107  83]\n",
    " [ 60 129]]\n",
    "\n",
    "2. Decision Tree:\n",
    "\n",
    "Best Parameters: {'max_depth': None, 'min_samples_leaf': 2, 'min_samples_split': 2}\n",
    "Classification Report (Decision Tree):\n",
    "               precision    recall  f1-score   support\n",
    "\n",
    "           0       0.86      0.87      0.87       190\n",
    "           1       0.87      0.86      0.86       189\n",
    "\n",
    "    accuracy                           0.87       379\n",
    "   macro avg       0.87      0.87      0.87       379\n",
    "weighted avg       0.87      0.87      0.87       379\n",
    "\n",
    "Confusion Matrix (Decision Tree):\n",
    " [[166  24]\n",
    " [ 27 162]]\n",
    "\n",
    "3. K-NN Model:\n",
    "\n",
    "Best Parameters: {'metric': 'manhattan', 'n_neighbors': 2, 'weights': 'uniform'}\n",
    "Classification Report (K-NN):\n",
    "               precision    recall  f1-score   support\n",
    "\n",
    "           0       1.00      0.83      0.90       190\n",
    "           1       0.85      1.00      0.92       189\n",
    "\n",
    "    accuracy                           0.91       379\n",
    "   macro avg       0.93      0.91      0.91       379\n",
    "weighted avg       0.93      0.91      0.91       379\n",
    "\n",
    "Confusion Matrix (K-NN):\n",
    " [[157  33]\n",
    " [  0 189]]\n",
    "\n",
    "4. Naive Bayes:\n",
    "\n",
    "Best Parameters: {'alpha': 0.01}\n",
    "Classification Report (Tuned Naive Bayes):\n",
    "               precision    recall  f1-score   support\n",
    "\n",
    "           0       0.95      1.00      0.98       191\n",
    "           1       0.00      0.00      0.00         9\n",
    "\n",
    "    accuracy                           0.95       200\n",
    "   macro avg       0.48      0.50      0.49       200\n",
    "weighted avg       0.91      0.95      0.93       200\n",
    "\n",
    "Confusion Matrix (Tuned Naive Bayes):\n",
    " [[191   0]\n",
    " [  9   0]]\n",
    "\n",
    "5. Random Forest:\n",
    "\n",
    "Fitting 5 folds for each of 81 candidates, totalling 405 fits\n",
    "Best Parameters: {'max_depth': 20, 'min_samples_leaf': 1, 'min_samples_split': 2, 'n_estimators': 300}\n",
    "Classification Report (Random Forest with Feature Selection and Tuning):\n",
    "               precision    recall  f1-score   support\n",
    "\n",
    "           0       0.94      0.96      0.95       190\n",
    "           1       0.96      0.94      0.95       189\n",
    "\n",
    "    accuracy                           0.95       379\n",
    "   macro avg       0.95      0.95      0.95       379\n",
    "weighted avg       0.95      0.95      0.95       379\n",
    "\n",
    "Confusion Matrix (Random Forest with Feature Selection and Tuning):\n",
    " [[182   8]\n",
    " [ 11 178]]\n",
    "\n",
    "6. Ada Boost:\n",
    "\n",
    "Fitting 5 folds for each of 9 candidates, totalling 45 fits\n",
    "Best Parameters: {'learning_rate': 1, 'n_estimators': 200}\n",
    "Classification Report (AdaBoost with Feature Selection and Tuning):\n",
    "               precision    recall  f1-score   support\n",
    "\n",
    "           0       0.93      0.98      0.95       190\n",
    "           1       0.98      0.92      0.95       189\n",
    "\n",
    "    accuracy                           0.95       379\n",
    "   macro avg       0.95      0.95      0.95       379\n",
    "weighted avg       0.95      0.95      0.95       379\n",
    "\n",
    "Confusion Matrix (AdaBoost with Feature Selection and Tuning):\n",
    " [[186   4]\n",
    " [ 15 174]]    \n",
    "\n",
    "\n",
    "\n"
   ]
  },
  {
   "cell_type": "markdown",
   "metadata": {},
   "source": [
    "Model Performance Summary:\n",
    "\n",
    "<b>1.Logistic Regression (LR) Model:</b>\n",
    "\n",
    "Accuracy: 62%\n",
    "Balanced precision, recall, and F1-score across both classes.\n",
    "Indicates some difficulty in distinguishing between classes compared to other models.\n",
    "\n",
    "<b>2.Decision Tree:</b>\n",
    "\n",
    "Accuracy: 87%\n",
    "High performance with balanced precision, recall, and F1-score.\n",
    "Demonstrates an effective fit to the dataset.\n",
    "\n",
    "<b>3.K-Nearest Neighbors (K-NN) Model:</b>\n",
    "\n",
    "Accuracy: 91%\n",
    "High precision and recall, particularly impressive in correctly predicting nearly all instances of Class 1.\n",
    "Slightly lower recall for Class 0 due to 33 misclassifications.\n",
    "\n",
    "<b>4.Naive Bayes:</b>\n",
    "\n",
    "Accuracy: 95% (on a subset of 200 instances)\n",
    "High accuracy but fails entirely to identify any instance of the minority class (Class 1).\n",
    "Imbalance in class distribution might be influencing model performance significantly.\n",
    "\n",
    "<b>5.Random Forest:</b>\n",
    "\n",
    "Accuracy: 95%\n",
    "Excellent balance of precision, recall, and F1-score for both classes.\n",
    "The best-performing model in terms of balancing error types and achieving high accuracy.\n",
    "\n",
    "<b>6.AdaBoost:</b>\n",
    "\n",
    "Accuracy: 95%\n",
    "Similar high performance to the Random Forest model, with slightly better recall for Class 0 and slightly worse for Class 1.\n",
    "\n",
    "Insights:\n",
    "Ensemble Methods Shine: Both Random Forest and AdaBoost models outperform other models, showcasing the strength of ensemble methods in handling this dataset, achieving 95% accuracy.\n",
    "Class Imbalance Challenge: The Naive Bayes model's inability to correctly predict Class 1 suggests a significant challenge posed by class imbalance, affecting model sensitivity to the minority class.\n",
    "Precision-Recall Trade-off: K-NN and Decision Tree models also perform well but exhibit a trade-off between precision and recall, particularly for Class 0 in the K-NN model.\n",
    "\n",
    "Recommendations:\n",
    "Focus on Ensemble Methods: Given their superior performance, further exploration and optimization of ensemble methods like Random Forest and AdaBoost should be prioritized.\n",
    "Address Class Imbalance: For models struggling with the minority class (e.g., Naive Bayes), consider employing advanced techniques for balancing classes or using models better suited to handle imbalances.\n",
    "Model Selection: The choice between Random Forest and AdaBoost might come down to considerations beyond accuracy, such as model interpretability, computational efficiency, or ease of deployment.\n",
    "Feature Importance and Selection: Continue leveraging feature selection to improve model efficiency and potentially gain insights into which features are most predictive of the target variable.\n",
    "Explore Model Combinations: Consider ensemble techniques or stacking to combine the strengths of individual models for improved overall performance.\n",
    "These models each offer unique advantages, and the best choice depends on the specific requirements of your application, including performance metrics, interpretability, and computational resources. "
   ]
  },
  {
   "cell_type": "code",
   "execution_count": null,
   "metadata": {},
   "outputs": [],
   "source": []
  }
 ],
 "metadata": {
  "colab": {
   "provenance": []
  },
  "kernelspec": {
   "display_name": "Python 3 (ipykernel)",
   "language": "python",
   "name": "python3"
  },
  "language_info": {
   "codemirror_mode": {
    "name": "ipython",
    "version": 3
   },
   "file_extension": ".py",
   "mimetype": "text/x-python",
   "name": "python",
   "nbconvert_exporter": "python",
   "pygments_lexer": "ipython3",
   "version": "3.11.7"
  }
 },
 "nbformat": 4,
 "nbformat_minor": 4
}
