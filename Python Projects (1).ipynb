{
 "cells": [
  {
   "cell_type": "code",
   "execution_count": 1,
   "metadata": {},
   "outputs": [],
   "source": [
    "def calcpi(limit):\n",
    "    #\"prints out the digit of PI untill given limit\"\n",
    "    q,r,t,k,n,l = 1,0,1,1,3,3\n",
    "    decimal = limit\n",
    "    counter = 0\n",
    "    while counter !=decimal + 1:\n",
    "        if 4 * q + r - t < n * t:\n",
    "            yield n\n",
    "            if counter ==0:\n",
    "                yield '.'\n",
    "                \n",
    "    \n",
    "\n",
    "\n"
   ]
  },
  {
   "cell_type": "markdown",
   "metadata": {},
   "source": [
    "# Find Pie to nth digit:\n",
    "   "
   ]
  },
  {
   "cell_type": "code",
   "execution_count": null,
   "metadata": {},
   "outputs": [],
   "source": [
    "import math\n",
    "def CalculatePi(roundval):\n",
    "    somepie = round(math.pi,roundval);\n",
    "    pi = str(somepie)\n",
    "    somelist = list(pi)\n",
    "    return somepie;\n",
    "roundTo = int(input(\"Enter the number of digits you want after the decimal for Pi: \"))\n",
    "CalculatePi(roundTo);\n",
    "try:\n",
    "    roundval = int(roundTo);\n",
    "    print(CalculatePi(roundval));\n",
    "    \n",
    "except:\n",
    "    print(\"You did not enter an integer\");"
   ]
  },
  {
   "cell_type": "markdown",
   "metadata": {},
   "source": [
    "# Find e to the Nth Digit"
   ]
  },
  {
   "cell_type": "code",
   "execution_count": null,
   "metadata": {},
   "outputs": [],
   "source": [
    "# Factorial\n",
    "import decimal\n",
    "def factorial(n):\n",
    "    factorials = [1]\n",
    "    for i in range(1, n + 1):\n",
    "        factorials.append(factorials[i - 1] * i)\n",
    "    return factorials\n",
    "n = int(input(\"Enter a no: \"))\n",
    "factorial(n)"
   ]
  },
  {
   "cell_type": "code",
   "execution_count": null,
   "metadata": {},
   "outputs": [],
   "source": []
  }
 ],
 "metadata": {
  "kernelspec": {
   "display_name": "Python 3",
   "language": "python",
   "name": "python3"
  },
  "language_info": {
   "codemirror_mode": {
    "name": "ipython",
    "version": 3
   },
   "file_extension": ".py",
   "mimetype": "text/x-python",
   "name": "python",
   "nbconvert_exporter": "python",
   "pygments_lexer": "ipython3",
   "version": "3.7.0"
  }
 },
 "nbformat": 4,
 "nbformat_minor": 2
}
