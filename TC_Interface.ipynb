{
 "cells": [
  {
   "cell_type": "markdown",
   "metadata": {},
   "source": [
    "### Importing Packages"
   ]
  },
  {
   "cell_type": "code",
   "execution_count": 6,
   "metadata": {},
   "outputs": [],
   "source": [
    "# Import relevant packages and ignore pandas wornings\n",
    "import math\n",
    "import numpy as np\n",
    "import pandas as pd\n",
    "import copy\n",
    "from scipy.optimize import minimize\n",
    "import warnings; warnings.simplefilter('ignore')\n",
    "import os\n",
    "from sklearn.model_selection import train_test_split\n",
    "from scipy.stats import zscore\n",
    "# from pingouin import ancova\n",
    "import statsmodels.api as sm\n"
   ]
  },
  {
   "cell_type": "markdown",
   "metadata": {},
   "source": [
    "## Tool Interface"
   ]
  },
  {
   "cell_type": "code",
   "execution_count": null,
   "metadata": {},
   "outputs": [],
   "source": [
    "tool_path=os.getcwd()\n",
    "print(\"Current working directory: \",tool_path)\n",
    "del tool_path\n",
    "\n",
    "%run \"Tool_Scripts/TC_Functions.ipynb\"\n",
    "      \n",
    "###### Choosing operation to perform\n",
    "##Choice-1: Run Test-Control pairing\n",
    "##Choice-2: Run lift calculation directly with external inputs\n",
    "print(\"\\nWhat would you like to perform? (1/2)\")\n",
    "print(\"\\n1 - Run Test - Control pairing\")\n",
    "print(\"2 - Run Lift calculation directly with external inputs\")\n",
    "response=\"NA\"\n",
    "while ((response != '1') & (response != '2')):\n",
    "    response=input()\n",
    "    if (response == \"1\"):\n",
    "        lift_calc_indep=\"n\"\n",
    "        \n",
    "        ### TC pairing\n",
    "        tc_input,tc_pair,test_data,control_data=tc_pairing()\n",
    "        \n",
    "        ### Lift calculation in continuation of TC pairing\n",
    "        run_lift(tc_pair,test_data,control_data)\n",
    "    elif (response == \"2\"):\n",
    "        lift_calc_indep=\"y\"\n",
    "        \n",
    "        ### Dummy Datasets as input for single lift calculation function\n",
    "        tc_input=pd.DataFrame(np.nan,index=[0], columns=['0'])\n",
    "        tc_pair=pd.DataFrame(np.nan,index=[0], columns=['0'])\n",
    "        test_data=pd.DataFrame(np.nan,index=[0], columns=['0'])\n",
    "        control_data=pd.DataFrame(np.nan,index=[0], columns=['0'])\n",
    "        \n",
    "        ### Lift calculation with external inputs\n",
    "        lift_calc(tc_pair,test_data,control_data)\n",
    "    else:\n",
    "        print(\"\\nInvalid Response. Please type 1 or 2\")\n",
    "\n",
    "del response,lift_calc_indep\n"
   ]
  }
 ],
 "metadata": {
  "kernelspec": {
   "display_name": "Python 3",
   "language": "python",
   "name": "python3"
  },
  "language_info": {
   "codemirror_mode": {
    "name": "ipython",
    "version": 3
   },
   "file_extension": ".py",
   "mimetype": "text/x-python",
   "name": "python",
   "nbconvert_exporter": "python",
   "pygments_lexer": "ipython3",
   "version": "3.8.3"
  }
 },
 "nbformat": 4,
 "nbformat_minor": 4
}
